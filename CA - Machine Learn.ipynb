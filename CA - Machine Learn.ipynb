{
 "cells": [
  {
   "cell_type": "markdown",
   "id": "1cac60f1",
   "metadata": {},
   "source": [
    "# Machine Learn"
   ]
  },
  {
   "cell_type": "markdown",
   "id": "a2c34833",
   "metadata": {},
   "source": [
    "\n",
    "\n",
    "\n",
    "Permition to use: https://data.lacity.org/Public-Safety/Crime-Data-from-2020-to-Present/2nrs-mtv8\n",
    "\n",
    "\n",
    "•\tDR_NO : Division of Records Number: Official file number made up of a 2 digit year, area ID, and 5 digits\n",
    "\n",
    "•\tDate Rptd : MM/DD/YYYY\n",
    "\n",
    "•\tDATE OCC : MM/DD/YYYY\n",
    "\n",
    "•\tTIME OCC : In 24 hour military time.\n",
    "\n",
    "•\tAREA : The LAPD has 21 Community Police Stations referred to as Geographic Areas within the department. These Geographic Areas are sequentially numbered from 1-21.\n",
    "\n",
    "•\tAREA NAME : The 21 Geographic Areas or Patrol Divisions are also given a name designation that references a landmark or the surrounding community that it is responsible for. For example 77th Street Division is located at the intersection of South Broadway and 77th Street, serving neighborhoods in South Los Angeles.\n",
    "\n",
    "•\tRpt Dist No : A four-digit code that represents a sub-area within a Geographic Area. All crime records reference the \"RD\" that it occurred in for statistical comparisons. Find LAPD Reporting Districts on the LA City GeoHub at http://geohub.lacity.org/datasets/c4f83909b81d4786aa8ba8a74a4b4db1_4\n",
    "\n",
    "•\tPart 1-2\n",
    "\n",
    "•\tCrm Cd : Indicates the crime committed. (Same as Crime Code 1)\n",
    "\n",
    "•\tCrm Cd Desc : Defines the Crime Code provided.\n",
    "\n",
    "•\tMocodes : Modus Operandi: Activities associated with the suspect in commission of the crime.See attached PDF for list of MO Codes in numerical order. https://data.lacity.org/api/views/y8tr-7khq/files/3a967fbd-f210-4857-bc52-60230efe256c?download=true&filename=MO%20CODES%20(numerical%20order).pdf\n",
    "\n",
    "•\tVict Age : Two character numeric\n",
    "\n",
    "•\tVict Sex : F - Female M - Male X - Unknown\n",
    "\n",
    "•\tVict Descent : Descent Code: A - Other Asian B - Black C - Chinese D - Cambodian F - Filipino G - Guamanian H -\n",
    "Hispanic/Latin/Mexican I - American Indian/Alaskan Native J - Japanese K - Korean L - Laotian O - Other P - Pacific Islander S - Samoan U - Hawaiian V - Vietnamese W - White X - Unknown Z - Asian Indian\n",
    "\n",
    "•\tPremis Cd : The type of structure, vehicle, or location where the crime took place.\n",
    "\n",
    "•\tPremis Desc : Defines the Premise Code provided.\n",
    "\n",
    "•\tWeapon Used Cd : The type of weapon used in the crime.\n",
    "\n",
    "•\tWeapon Desc : Defines the Weapon Used Code provided.\n",
    "\n",
    "•\tStatus : Status of the case. (IC is the default)\n",
    "\n",
    "•\tStatus Desc : Defines the Status Code provided.\n",
    "\n",
    "•\tCrm Cd 1 : Indicates the crime committed. Crime Code 1 is the primary and most serious one. Crime Code 2, 3, and 4 are respectively less serious offenses. Lower crime class numbers are more serious.\n",
    "\n",
    "•\tCrm Cd 2 : May contain a code for an additional crime, less serious than Crime Code 1.\n",
    "\n",
    "•\tCrm Cd 3 : May contain a code for an additional crime, less serious than Crime Code 1.\n",
    "\n",
    "•\tCrm Cd 4 : May contain a code for an additional crime, less serious than Crime Code 1\n",
    ".\n",
    "•\tLOCATION : Street address of crime incident rounded to the nearest hundred block to maintain anonymity.\n",
    "\n",
    "•\tCross Street : Cross Street of rounded Address\n",
    "\n",
    "•\tLAT : Latitude\n",
    "\n",
    "•\tLON : Longtitude\n"
   ]
  },
  {
   "cell_type": "markdown",
   "id": "84381280",
   "metadata": {},
   "source": [
    "# Discovery the Data"
   ]
  },
  {
   "cell_type": "code",
   "execution_count": 1,
   "id": "733abae3",
   "metadata": {},
   "outputs": [],
   "source": [
    "%matplotlib inline\n",
    "import pandas as pd\n",
    "import numpy as np\n",
    "import matplotlib.pyplot as plt\n",
    "import warnings\n",
    "warnings.filterwarnings('ignore')"
   ]
  },
  {
   "cell_type": "code",
   "execution_count": 2,
   "id": "38dca31f",
   "metadata": {},
   "outputs": [],
   "source": [
    "crime_df = pd.read_csv('crime_data.csv')"
   ]
  },
  {
   "cell_type": "code",
   "execution_count": 3,
   "id": "c6ecd2f6",
   "metadata": {},
   "outputs": [
    {
     "data": {
      "text/html": [
       "<div>\n",
       "<style scoped>\n",
       "    .dataframe tbody tr th:only-of-type {\n",
       "        vertical-align: middle;\n",
       "    }\n",
       "\n",
       "    .dataframe tbody tr th {\n",
       "        vertical-align: top;\n",
       "    }\n",
       "\n",
       "    .dataframe thead th {\n",
       "        text-align: right;\n",
       "    }\n",
       "</style>\n",
       "<table border=\"1\" class=\"dataframe\">\n",
       "  <thead>\n",
       "    <tr style=\"text-align: right;\">\n",
       "      <th></th>\n",
       "      <th>DR_NO</th>\n",
       "      <th>Date Rptd</th>\n",
       "      <th>DATE OCC</th>\n",
       "      <th>TIME OCC</th>\n",
       "      <th>AREA</th>\n",
       "      <th>AREA NAME</th>\n",
       "      <th>Rpt Dist No</th>\n",
       "      <th>Part 1-2</th>\n",
       "      <th>Crm Cd</th>\n",
       "      <th>Crm Cd Desc</th>\n",
       "      <th>...</th>\n",
       "      <th>Status</th>\n",
       "      <th>Status Desc</th>\n",
       "      <th>Crm Cd 1</th>\n",
       "      <th>Crm Cd 2</th>\n",
       "      <th>Crm Cd 3</th>\n",
       "      <th>Crm Cd 4</th>\n",
       "      <th>LOCATION</th>\n",
       "      <th>Cross Street</th>\n",
       "      <th>LAT</th>\n",
       "      <th>LON</th>\n",
       "    </tr>\n",
       "  </thead>\n",
       "  <tbody>\n",
       "    <tr>\n",
       "      <th>0</th>\n",
       "      <td>10304468</td>\n",
       "      <td>01/08/2020 12:00:00 AM</td>\n",
       "      <td>01/08/2020 12:00:00 AM</td>\n",
       "      <td>2230</td>\n",
       "      <td>3</td>\n",
       "      <td>Southwest</td>\n",
       "      <td>377</td>\n",
       "      <td>2</td>\n",
       "      <td>624</td>\n",
       "      <td>BATTERY - SIMPLE ASSAULT</td>\n",
       "      <td>...</td>\n",
       "      <td>AO</td>\n",
       "      <td>Adult Other</td>\n",
       "      <td>624.0</td>\n",
       "      <td>NaN</td>\n",
       "      <td>NaN</td>\n",
       "      <td>NaN</td>\n",
       "      <td>1100 W  39TH                         PL</td>\n",
       "      <td>NaN</td>\n",
       "      <td>34.0141</td>\n",
       "      <td>-118.2978</td>\n",
       "    </tr>\n",
       "    <tr>\n",
       "      <th>1</th>\n",
       "      <td>190101086</td>\n",
       "      <td>01/02/2020 12:00:00 AM</td>\n",
       "      <td>01/01/2020 12:00:00 AM</td>\n",
       "      <td>330</td>\n",
       "      <td>1</td>\n",
       "      <td>Central</td>\n",
       "      <td>163</td>\n",
       "      <td>2</td>\n",
       "      <td>624</td>\n",
       "      <td>BATTERY - SIMPLE ASSAULT</td>\n",
       "      <td>...</td>\n",
       "      <td>IC</td>\n",
       "      <td>Invest Cont</td>\n",
       "      <td>624.0</td>\n",
       "      <td>NaN</td>\n",
       "      <td>NaN</td>\n",
       "      <td>NaN</td>\n",
       "      <td>700 S  HILL                         ST</td>\n",
       "      <td>NaN</td>\n",
       "      <td>34.0459</td>\n",
       "      <td>-118.2545</td>\n",
       "    </tr>\n",
       "    <tr>\n",
       "      <th>2</th>\n",
       "      <td>200110444</td>\n",
       "      <td>04/14/2020 12:00:00 AM</td>\n",
       "      <td>02/13/2020 12:00:00 AM</td>\n",
       "      <td>1200</td>\n",
       "      <td>1</td>\n",
       "      <td>Central</td>\n",
       "      <td>155</td>\n",
       "      <td>2</td>\n",
       "      <td>845</td>\n",
       "      <td>SEX OFFENDER REGISTRANT OUT OF COMPLIANCE</td>\n",
       "      <td>...</td>\n",
       "      <td>AA</td>\n",
       "      <td>Adult Arrest</td>\n",
       "      <td>845.0</td>\n",
       "      <td>NaN</td>\n",
       "      <td>NaN</td>\n",
       "      <td>NaN</td>\n",
       "      <td>200 E  6TH                          ST</td>\n",
       "      <td>NaN</td>\n",
       "      <td>34.0448</td>\n",
       "      <td>-118.2474</td>\n",
       "    </tr>\n",
       "    <tr>\n",
       "      <th>3</th>\n",
       "      <td>191501505</td>\n",
       "      <td>01/01/2020 12:00:00 AM</td>\n",
       "      <td>01/01/2020 12:00:00 AM</td>\n",
       "      <td>1730</td>\n",
       "      <td>15</td>\n",
       "      <td>N Hollywood</td>\n",
       "      <td>1543</td>\n",
       "      <td>2</td>\n",
       "      <td>745</td>\n",
       "      <td>VANDALISM - MISDEAMEANOR ($399 OR UNDER)</td>\n",
       "      <td>...</td>\n",
       "      <td>IC</td>\n",
       "      <td>Invest Cont</td>\n",
       "      <td>745.0</td>\n",
       "      <td>998.0</td>\n",
       "      <td>NaN</td>\n",
       "      <td>NaN</td>\n",
       "      <td>5400    CORTEEN                      PL</td>\n",
       "      <td>NaN</td>\n",
       "      <td>34.1685</td>\n",
       "      <td>-118.4019</td>\n",
       "    </tr>\n",
       "    <tr>\n",
       "      <th>4</th>\n",
       "      <td>191921269</td>\n",
       "      <td>01/01/2020 12:00:00 AM</td>\n",
       "      <td>01/01/2020 12:00:00 AM</td>\n",
       "      <td>415</td>\n",
       "      <td>19</td>\n",
       "      <td>Mission</td>\n",
       "      <td>1998</td>\n",
       "      <td>2</td>\n",
       "      <td>740</td>\n",
       "      <td>VANDALISM - FELONY ($400 &amp; OVER, ALL CHURCH VA...</td>\n",
       "      <td>...</td>\n",
       "      <td>IC</td>\n",
       "      <td>Invest Cont</td>\n",
       "      <td>740.0</td>\n",
       "      <td>NaN</td>\n",
       "      <td>NaN</td>\n",
       "      <td>NaN</td>\n",
       "      <td>14400    TITUS                        ST</td>\n",
       "      <td>NaN</td>\n",
       "      <td>34.2198</td>\n",
       "      <td>-118.4468</td>\n",
       "    </tr>\n",
       "  </tbody>\n",
       "</table>\n",
       "<p>5 rows × 28 columns</p>\n",
       "</div>"
      ],
      "text/plain": [
       "       DR_NO               Date Rptd                DATE OCC  TIME OCC  AREA  \\\n",
       "0   10304468  01/08/2020 12:00:00 AM  01/08/2020 12:00:00 AM      2230     3   \n",
       "1  190101086  01/02/2020 12:00:00 AM  01/01/2020 12:00:00 AM       330     1   \n",
       "2  200110444  04/14/2020 12:00:00 AM  02/13/2020 12:00:00 AM      1200     1   \n",
       "3  191501505  01/01/2020 12:00:00 AM  01/01/2020 12:00:00 AM      1730    15   \n",
       "4  191921269  01/01/2020 12:00:00 AM  01/01/2020 12:00:00 AM       415    19   \n",
       "\n",
       "     AREA NAME  Rpt Dist No  Part 1-2  Crm Cd  \\\n",
       "0    Southwest          377         2     624   \n",
       "1      Central          163         2     624   \n",
       "2      Central          155         2     845   \n",
       "3  N Hollywood         1543         2     745   \n",
       "4      Mission         1998         2     740   \n",
       "\n",
       "                                         Crm Cd Desc  ... Status  \\\n",
       "0                           BATTERY - SIMPLE ASSAULT  ...     AO   \n",
       "1                           BATTERY - SIMPLE ASSAULT  ...     IC   \n",
       "2          SEX OFFENDER REGISTRANT OUT OF COMPLIANCE  ...     AA   \n",
       "3           VANDALISM - MISDEAMEANOR ($399 OR UNDER)  ...     IC   \n",
       "4  VANDALISM - FELONY ($400 & OVER, ALL CHURCH VA...  ...     IC   \n",
       "\n",
       "    Status Desc Crm Cd 1 Crm Cd 2  Crm Cd 3 Crm Cd 4  \\\n",
       "0   Adult Other    624.0      NaN       NaN      NaN   \n",
       "1   Invest Cont    624.0      NaN       NaN      NaN   \n",
       "2  Adult Arrest    845.0      NaN       NaN      NaN   \n",
       "3   Invest Cont    745.0    998.0       NaN      NaN   \n",
       "4   Invest Cont    740.0      NaN       NaN      NaN   \n",
       "\n",
       "                                   LOCATION Cross Street      LAT       LON  \n",
       "0   1100 W  39TH                         PL          NaN  34.0141 -118.2978  \n",
       "1    700 S  HILL                         ST          NaN  34.0459 -118.2545  \n",
       "2    200 E  6TH                          ST          NaN  34.0448 -118.2474  \n",
       "3   5400    CORTEEN                      PL          NaN  34.1685 -118.4019  \n",
       "4  14400    TITUS                        ST          NaN  34.2198 -118.4468  \n",
       "\n",
       "[5 rows x 28 columns]"
      ]
     },
     "execution_count": 3,
     "metadata": {},
     "output_type": "execute_result"
    }
   ],
   "source": [
    "crime_df.head()"
   ]
  },
  {
   "cell_type": "code",
   "execution_count": 4,
   "id": "fe33ef25",
   "metadata": {},
   "outputs": [
    {
     "data": {
      "text/html": [
       "<div>\n",
       "<style scoped>\n",
       "    .dataframe tbody tr th:only-of-type {\n",
       "        vertical-align: middle;\n",
       "    }\n",
       "\n",
       "    .dataframe tbody tr th {\n",
       "        vertical-align: top;\n",
       "    }\n",
       "\n",
       "    .dataframe thead th {\n",
       "        text-align: right;\n",
       "    }\n",
       "</style>\n",
       "<table border=\"1\" class=\"dataframe\">\n",
       "  <thead>\n",
       "    <tr style=\"text-align: right;\">\n",
       "      <th></th>\n",
       "      <th>DR_NO</th>\n",
       "      <th>TIME OCC</th>\n",
       "      <th>AREA</th>\n",
       "      <th>Rpt Dist No</th>\n",
       "      <th>Part 1-2</th>\n",
       "      <th>Crm Cd</th>\n",
       "      <th>Vict Age</th>\n",
       "      <th>Premis Cd</th>\n",
       "      <th>Weapon Used Cd</th>\n",
       "      <th>Crm Cd 1</th>\n",
       "      <th>Crm Cd 2</th>\n",
       "      <th>Crm Cd 3</th>\n",
       "      <th>Crm Cd 4</th>\n",
       "      <th>LAT</th>\n",
       "      <th>LON</th>\n",
       "    </tr>\n",
       "  </thead>\n",
       "  <tbody>\n",
       "    <tr>\n",
       "      <th>count</th>\n",
       "      <td>6.949150e+05</td>\n",
       "      <td>694915.000000</td>\n",
       "      <td>694915.000000</td>\n",
       "      <td>694915.000000</td>\n",
       "      <td>694915.000000</td>\n",
       "      <td>694915.000000</td>\n",
       "      <td>694915.000000</td>\n",
       "      <td>694907.000000</td>\n",
       "      <td>241434.000000</td>\n",
       "      <td>694906.000000</td>\n",
       "      <td>51816.000000</td>\n",
       "      <td>1747.000000</td>\n",
       "      <td>52.000000</td>\n",
       "      <td>694915.000000</td>\n",
       "      <td>694915.000000</td>\n",
       "    </tr>\n",
       "    <tr>\n",
       "      <th>mean</th>\n",
       "      <td>2.134252e+08</td>\n",
       "      <td>1333.809936</td>\n",
       "      <td>10.712713</td>\n",
       "      <td>1117.650033</td>\n",
       "      <td>1.415976</td>\n",
       "      <td>500.592415</td>\n",
       "      <td>29.969890</td>\n",
       "      <td>305.024871</td>\n",
       "      <td>362.202080</td>\n",
       "      <td>500.332790</td>\n",
       "      <td>956.742782</td>\n",
       "      <td>982.900401</td>\n",
       "      <td>990.615385</td>\n",
       "      <td>33.962489</td>\n",
       "      <td>-117.968027</td>\n",
       "    </tr>\n",
       "    <tr>\n",
       "      <th>std</th>\n",
       "      <td>9.519111e+06</td>\n",
       "      <td>654.271226</td>\n",
       "      <td>6.089274</td>\n",
       "      <td>608.929482</td>\n",
       "      <td>0.492890</td>\n",
       "      <td>207.846384</td>\n",
       "      <td>21.689495</td>\n",
       "      <td>216.431529</td>\n",
       "      <td>123.804416</td>\n",
       "      <td>207.636381</td>\n",
       "      <td>112.844364</td>\n",
       "      <td>57.146206</td>\n",
       "      <td>29.227407</td>\n",
       "      <td>1.945728</td>\n",
       "      <td>6.748226</td>\n",
       "    </tr>\n",
       "    <tr>\n",
       "      <th>min</th>\n",
       "      <td>8.170000e+02</td>\n",
       "      <td>1.000000</td>\n",
       "      <td>1.000000</td>\n",
       "      <td>101.000000</td>\n",
       "      <td>1.000000</td>\n",
       "      <td>110.000000</td>\n",
       "      <td>-2.000000</td>\n",
       "      <td>101.000000</td>\n",
       "      <td>101.000000</td>\n",
       "      <td>110.000000</td>\n",
       "      <td>121.000000</td>\n",
       "      <td>9.000000</td>\n",
       "      <td>821.000000</td>\n",
       "      <td>0.000000</td>\n",
       "      <td>-118.667600</td>\n",
       "    </tr>\n",
       "    <tr>\n",
       "      <th>25%</th>\n",
       "      <td>2.019173e+08</td>\n",
       "      <td>900.000000</td>\n",
       "      <td>6.000000</td>\n",
       "      <td>622.000000</td>\n",
       "      <td>1.000000</td>\n",
       "      <td>330.000000</td>\n",
       "      <td>12.000000</td>\n",
       "      <td>101.000000</td>\n",
       "      <td>308.000000</td>\n",
       "      <td>330.000000</td>\n",
       "      <td>998.000000</td>\n",
       "      <td>998.000000</td>\n",
       "      <td>998.000000</td>\n",
       "      <td>34.013200</td>\n",
       "      <td>-118.429400</td>\n",
       "    </tr>\n",
       "    <tr>\n",
       "      <th>50%</th>\n",
       "      <td>2.116044e+08</td>\n",
       "      <td>1413.000000</td>\n",
       "      <td>11.000000</td>\n",
       "      <td>1141.000000</td>\n",
       "      <td>1.000000</td>\n",
       "      <td>442.000000</td>\n",
       "      <td>31.000000</td>\n",
       "      <td>203.000000</td>\n",
       "      <td>400.000000</td>\n",
       "      <td>442.000000</td>\n",
       "      <td>998.000000</td>\n",
       "      <td>998.000000</td>\n",
       "      <td>998.000000</td>\n",
       "      <td>34.058400</td>\n",
       "      <td>-118.321400</td>\n",
       "    </tr>\n",
       "    <tr>\n",
       "      <th>75%</th>\n",
       "      <td>2.211135e+08</td>\n",
       "      <td>1900.000000</td>\n",
       "      <td>16.000000</td>\n",
       "      <td>1617.000000</td>\n",
       "      <td>2.000000</td>\n",
       "      <td>626.000000</td>\n",
       "      <td>45.000000</td>\n",
       "      <td>501.000000</td>\n",
       "      <td>400.000000</td>\n",
       "      <td>626.000000</td>\n",
       "      <td>998.000000</td>\n",
       "      <td>998.000000</td>\n",
       "      <td>998.000000</td>\n",
       "      <td>34.163100</td>\n",
       "      <td>-118.273900</td>\n",
       "    </tr>\n",
       "    <tr>\n",
       "      <th>max</th>\n",
       "      <td>2.399097e+08</td>\n",
       "      <td>2359.000000</td>\n",
       "      <td>21.000000</td>\n",
       "      <td>2199.000000</td>\n",
       "      <td>2.000000</td>\n",
       "      <td>956.000000</td>\n",
       "      <td>120.000000</td>\n",
       "      <td>971.000000</td>\n",
       "      <td>516.000000</td>\n",
       "      <td>956.000000</td>\n",
       "      <td>999.000000</td>\n",
       "      <td>999.000000</td>\n",
       "      <td>999.000000</td>\n",
       "      <td>34.334300</td>\n",
       "      <td>0.000000</td>\n",
       "    </tr>\n",
       "  </tbody>\n",
       "</table>\n",
       "</div>"
      ],
      "text/plain": [
       "              DR_NO       TIME OCC           AREA    Rpt Dist No  \\\n",
       "count  6.949150e+05  694915.000000  694915.000000  694915.000000   \n",
       "mean   2.134252e+08    1333.809936      10.712713    1117.650033   \n",
       "std    9.519111e+06     654.271226       6.089274     608.929482   \n",
       "min    8.170000e+02       1.000000       1.000000     101.000000   \n",
       "25%    2.019173e+08     900.000000       6.000000     622.000000   \n",
       "50%    2.116044e+08    1413.000000      11.000000    1141.000000   \n",
       "75%    2.211135e+08    1900.000000      16.000000    1617.000000   \n",
       "max    2.399097e+08    2359.000000      21.000000    2199.000000   \n",
       "\n",
       "            Part 1-2         Crm Cd       Vict Age      Premis Cd  \\\n",
       "count  694915.000000  694915.000000  694915.000000  694907.000000   \n",
       "mean        1.415976     500.592415      29.969890     305.024871   \n",
       "std         0.492890     207.846384      21.689495     216.431529   \n",
       "min         1.000000     110.000000      -2.000000     101.000000   \n",
       "25%         1.000000     330.000000      12.000000     101.000000   \n",
       "50%         1.000000     442.000000      31.000000     203.000000   \n",
       "75%         2.000000     626.000000      45.000000     501.000000   \n",
       "max         2.000000     956.000000     120.000000     971.000000   \n",
       "\n",
       "       Weapon Used Cd       Crm Cd 1      Crm Cd 2     Crm Cd 3    Crm Cd 4  \\\n",
       "count   241434.000000  694906.000000  51816.000000  1747.000000   52.000000   \n",
       "mean       362.202080     500.332790    956.742782   982.900401  990.615385   \n",
       "std        123.804416     207.636381    112.844364    57.146206   29.227407   \n",
       "min        101.000000     110.000000    121.000000     9.000000  821.000000   \n",
       "25%        308.000000     330.000000    998.000000   998.000000  998.000000   \n",
       "50%        400.000000     442.000000    998.000000   998.000000  998.000000   \n",
       "75%        400.000000     626.000000    998.000000   998.000000  998.000000   \n",
       "max        516.000000     956.000000    999.000000   999.000000  999.000000   \n",
       "\n",
       "                 LAT            LON  \n",
       "count  694915.000000  694915.000000  \n",
       "mean       33.962489    -117.968027  \n",
       "std         1.945728       6.748226  \n",
       "min         0.000000    -118.667600  \n",
       "25%        34.013200    -118.429400  \n",
       "50%        34.058400    -118.321400  \n",
       "75%        34.163100    -118.273900  \n",
       "max        34.334300       0.000000  "
      ]
     },
     "execution_count": 4,
     "metadata": {},
     "output_type": "execute_result"
    }
   ],
   "source": [
    "crime_df.describe()"
   ]
  },
  {
   "cell_type": "code",
   "execution_count": 5,
   "id": "40f6b7ac",
   "metadata": {},
   "outputs": [
    {
     "data": {
      "text/plain": [
       "(694915, 28)"
      ]
     },
     "execution_count": 5,
     "metadata": {},
     "output_type": "execute_result"
    }
   ],
   "source": [
    "crime_df.shape"
   ]
  },
  {
   "cell_type": "code",
   "execution_count": 6,
   "id": "38f64dcf",
   "metadata": {},
   "outputs": [
    {
     "data": {
      "text/plain": [
       "DR_NO                  0\n",
       "Date Rptd              0\n",
       "DATE OCC               0\n",
       "TIME OCC               0\n",
       "AREA                   0\n",
       "AREA NAME              0\n",
       "Rpt Dist No            0\n",
       "Part 1-2               0\n",
       "Crm Cd                 0\n",
       "Crm Cd Desc            0\n",
       "Mocodes            95563\n",
       "Vict Age               0\n",
       "Vict Sex           91046\n",
       "Vict Descent       91052\n",
       "Premis Cd              8\n",
       "Premis Desc          366\n",
       "Weapon Used Cd    453481\n",
       "Weapon Desc       453481\n",
       "Status                 0\n",
       "Status Desc            0\n",
       "Crm Cd 1               9\n",
       "Crm Cd 2          643099\n",
       "Crm Cd 3          693168\n",
       "Crm Cd 4          694863\n",
       "LOCATION               0\n",
       "Cross Street      582058\n",
       "LAT                    0\n",
       "LON                    0\n",
       "dtype: int64"
      ]
     },
     "execution_count": 6,
     "metadata": {},
     "output_type": "execute_result"
    }
   ],
   "source": [
    "crime_df.isnull().sum()"
   ]
  },
  {
   "cell_type": "code",
   "execution_count": 7,
   "id": "ce39be3b",
   "metadata": {},
   "outputs": [
    {
     "data": {
      "text/html": [
       "<div>\n",
       "<style scoped>\n",
       "    .dataframe tbody tr th:only-of-type {\n",
       "        vertical-align: middle;\n",
       "    }\n",
       "\n",
       "    .dataframe tbody tr th {\n",
       "        vertical-align: top;\n",
       "    }\n",
       "\n",
       "    .dataframe thead th {\n",
       "        text-align: right;\n",
       "    }\n",
       "</style>\n",
       "<table border=\"1\" class=\"dataframe\">\n",
       "  <thead>\n",
       "    <tr style=\"text-align: right;\">\n",
       "      <th></th>\n",
       "      <th>DR_NO</th>\n",
       "      <th>Date Rptd</th>\n",
       "      <th>DATE OCC</th>\n",
       "      <th>TIME OCC</th>\n",
       "      <th>AREA</th>\n",
       "      <th>AREA NAME</th>\n",
       "      <th>Rpt Dist No</th>\n",
       "      <th>Part 1-2</th>\n",
       "      <th>Crm Cd</th>\n",
       "      <th>Crm Cd Desc</th>\n",
       "      <th>...</th>\n",
       "      <th>Status</th>\n",
       "      <th>Status Desc</th>\n",
       "      <th>Crm Cd 1</th>\n",
       "      <th>Crm Cd 2</th>\n",
       "      <th>Crm Cd 3</th>\n",
       "      <th>Crm Cd 4</th>\n",
       "      <th>LOCATION</th>\n",
       "      <th>Cross Street</th>\n",
       "      <th>LAT</th>\n",
       "      <th>LON</th>\n",
       "    </tr>\n",
       "  </thead>\n",
       "  <tbody>\n",
       "    <tr>\n",
       "      <th>0</th>\n",
       "      <td>10304468</td>\n",
       "      <td>01/08/2020 12:00:00 AM</td>\n",
       "      <td>01/08/2020 12:00:00 AM</td>\n",
       "      <td>2230</td>\n",
       "      <td>3</td>\n",
       "      <td>Southwest</td>\n",
       "      <td>377</td>\n",
       "      <td>2</td>\n",
       "      <td>624</td>\n",
       "      <td>BATTERY - SIMPLE ASSAULT</td>\n",
       "      <td>...</td>\n",
       "      <td>AO</td>\n",
       "      <td>Adult Other</td>\n",
       "      <td>624.0</td>\n",
       "      <td>NaN</td>\n",
       "      <td>NaN</td>\n",
       "      <td>NaN</td>\n",
       "      <td>1100 W  39TH                         PL</td>\n",
       "      <td>NaN</td>\n",
       "      <td>34.0141</td>\n",
       "      <td>-118.2978</td>\n",
       "    </tr>\n",
       "    <tr>\n",
       "      <th>1</th>\n",
       "      <td>190101086</td>\n",
       "      <td>01/02/2020 12:00:00 AM</td>\n",
       "      <td>01/01/2020 12:00:00 AM</td>\n",
       "      <td>330</td>\n",
       "      <td>1</td>\n",
       "      <td>Central</td>\n",
       "      <td>163</td>\n",
       "      <td>2</td>\n",
       "      <td>624</td>\n",
       "      <td>BATTERY - SIMPLE ASSAULT</td>\n",
       "      <td>...</td>\n",
       "      <td>IC</td>\n",
       "      <td>Invest Cont</td>\n",
       "      <td>624.0</td>\n",
       "      <td>NaN</td>\n",
       "      <td>NaN</td>\n",
       "      <td>NaN</td>\n",
       "      <td>700 S  HILL                         ST</td>\n",
       "      <td>NaN</td>\n",
       "      <td>34.0459</td>\n",
       "      <td>-118.2545</td>\n",
       "    </tr>\n",
       "    <tr>\n",
       "      <th>2</th>\n",
       "      <td>200110444</td>\n",
       "      <td>04/14/2020 12:00:00 AM</td>\n",
       "      <td>02/13/2020 12:00:00 AM</td>\n",
       "      <td>1200</td>\n",
       "      <td>1</td>\n",
       "      <td>Central</td>\n",
       "      <td>155</td>\n",
       "      <td>2</td>\n",
       "      <td>845</td>\n",
       "      <td>SEX OFFENDER REGISTRANT OUT OF COMPLIANCE</td>\n",
       "      <td>...</td>\n",
       "      <td>AA</td>\n",
       "      <td>Adult Arrest</td>\n",
       "      <td>845.0</td>\n",
       "      <td>NaN</td>\n",
       "      <td>NaN</td>\n",
       "      <td>NaN</td>\n",
       "      <td>200 E  6TH                          ST</td>\n",
       "      <td>NaN</td>\n",
       "      <td>34.0448</td>\n",
       "      <td>-118.2474</td>\n",
       "    </tr>\n",
       "    <tr>\n",
       "      <th>3</th>\n",
       "      <td>191501505</td>\n",
       "      <td>01/01/2020 12:00:00 AM</td>\n",
       "      <td>01/01/2020 12:00:00 AM</td>\n",
       "      <td>1730</td>\n",
       "      <td>15</td>\n",
       "      <td>N Hollywood</td>\n",
       "      <td>1543</td>\n",
       "      <td>2</td>\n",
       "      <td>745</td>\n",
       "      <td>VANDALISM - MISDEAMEANOR ($399 OR UNDER)</td>\n",
       "      <td>...</td>\n",
       "      <td>IC</td>\n",
       "      <td>Invest Cont</td>\n",
       "      <td>745.0</td>\n",
       "      <td>998.0</td>\n",
       "      <td>NaN</td>\n",
       "      <td>NaN</td>\n",
       "      <td>5400    CORTEEN                      PL</td>\n",
       "      <td>NaN</td>\n",
       "      <td>34.1685</td>\n",
       "      <td>-118.4019</td>\n",
       "    </tr>\n",
       "    <tr>\n",
       "      <th>4</th>\n",
       "      <td>191921269</td>\n",
       "      <td>01/01/2020 12:00:00 AM</td>\n",
       "      <td>01/01/2020 12:00:00 AM</td>\n",
       "      <td>415</td>\n",
       "      <td>19</td>\n",
       "      <td>Mission</td>\n",
       "      <td>1998</td>\n",
       "      <td>2</td>\n",
       "      <td>740</td>\n",
       "      <td>VANDALISM - FELONY ($400 &amp; OVER, ALL CHURCH VA...</td>\n",
       "      <td>...</td>\n",
       "      <td>IC</td>\n",
       "      <td>Invest Cont</td>\n",
       "      <td>740.0</td>\n",
       "      <td>NaN</td>\n",
       "      <td>NaN</td>\n",
       "      <td>NaN</td>\n",
       "      <td>14400    TITUS                        ST</td>\n",
       "      <td>NaN</td>\n",
       "      <td>34.2198</td>\n",
       "      <td>-118.4468</td>\n",
       "    </tr>\n",
       "    <tr>\n",
       "      <th>...</th>\n",
       "      <td>...</td>\n",
       "      <td>...</td>\n",
       "      <td>...</td>\n",
       "      <td>...</td>\n",
       "      <td>...</td>\n",
       "      <td>...</td>\n",
       "      <td>...</td>\n",
       "      <td>...</td>\n",
       "      <td>...</td>\n",
       "      <td>...</td>\n",
       "      <td>...</td>\n",
       "      <td>...</td>\n",
       "      <td>...</td>\n",
       "      <td>...</td>\n",
       "      <td>...</td>\n",
       "      <td>...</td>\n",
       "      <td>...</td>\n",
       "      <td>...</td>\n",
       "      <td>...</td>\n",
       "      <td>...</td>\n",
       "      <td>...</td>\n",
       "    </tr>\n",
       "    <tr>\n",
       "      <th>694910</th>\n",
       "      <td>230804266</td>\n",
       "      <td>01/08/2023 12:00:00 AM</td>\n",
       "      <td>01/08/2023 12:00:00 AM</td>\n",
       "      <td>1030</td>\n",
       "      <td>8</td>\n",
       "      <td>West LA</td>\n",
       "      <td>839</td>\n",
       "      <td>1</td>\n",
       "      <td>341</td>\n",
       "      <td>THEFT-GRAND ($950.01 &amp; OVER)EXCPT,GUNS,FOWL,LI...</td>\n",
       "      <td>...</td>\n",
       "      <td>IC</td>\n",
       "      <td>Invest Cont</td>\n",
       "      <td>341.0</td>\n",
       "      <td>NaN</td>\n",
       "      <td>NaN</td>\n",
       "      <td>NaN</td>\n",
       "      <td>10200    SANTA MONICA                 BL</td>\n",
       "      <td>NaN</td>\n",
       "      <td>34.0611</td>\n",
       "      <td>-118.4184</td>\n",
       "    </tr>\n",
       "    <tr>\n",
       "      <th>694911</th>\n",
       "      <td>230109201</td>\n",
       "      <td>03/23/2023 12:00:00 AM</td>\n",
       "      <td>03/22/2023 12:00:00 AM</td>\n",
       "      <td>1830</td>\n",
       "      <td>1</td>\n",
       "      <td>Central</td>\n",
       "      <td>111</td>\n",
       "      <td>1</td>\n",
       "      <td>440</td>\n",
       "      <td>THEFT PLAIN - PETTY ($950 &amp; UNDER)</td>\n",
       "      <td>...</td>\n",
       "      <td>IC</td>\n",
       "      <td>Invest Cont</td>\n",
       "      <td>440.0</td>\n",
       "      <td>NaN</td>\n",
       "      <td>NaN</td>\n",
       "      <td>NaN</td>\n",
       "      <td>700 W  CESAR E CHAVEZ               AV</td>\n",
       "      <td>NaN</td>\n",
       "      <td>34.0606</td>\n",
       "      <td>-118.2439</td>\n",
       "    </tr>\n",
       "    <tr>\n",
       "      <th>694912</th>\n",
       "      <td>231604807</td>\n",
       "      <td>01/27/2023 12:00:00 AM</td>\n",
       "      <td>01/26/2023 12:00:00 AM</td>\n",
       "      <td>1800</td>\n",
       "      <td>16</td>\n",
       "      <td>Foothill</td>\n",
       "      <td>1663</td>\n",
       "      <td>2</td>\n",
       "      <td>740</td>\n",
       "      <td>VANDALISM - FELONY ($400 &amp; OVER, ALL CHURCH VA...</td>\n",
       "      <td>...</td>\n",
       "      <td>IC</td>\n",
       "      <td>Invest Cont</td>\n",
       "      <td>740.0</td>\n",
       "      <td>NaN</td>\n",
       "      <td>NaN</td>\n",
       "      <td>NaN</td>\n",
       "      <td>12500    BRANFORD                     ST</td>\n",
       "      <td>NaN</td>\n",
       "      <td>34.2466</td>\n",
       "      <td>-118.4054</td>\n",
       "    </tr>\n",
       "    <tr>\n",
       "      <th>694913</th>\n",
       "      <td>231606525</td>\n",
       "      <td>03/22/2023 12:00:00 AM</td>\n",
       "      <td>03/22/2023 12:00:00 AM</td>\n",
       "      <td>1000</td>\n",
       "      <td>16</td>\n",
       "      <td>Foothill</td>\n",
       "      <td>1602</td>\n",
       "      <td>1</td>\n",
       "      <td>230</td>\n",
       "      <td>ASSAULT WITH DEADLY WEAPON, AGGRAVATED ASSAULT</td>\n",
       "      <td>...</td>\n",
       "      <td>IC</td>\n",
       "      <td>Invest Cont</td>\n",
       "      <td>230.0</td>\n",
       "      <td>NaN</td>\n",
       "      <td>NaN</td>\n",
       "      <td>NaN</td>\n",
       "      <td>12800    FILMORE                      ST</td>\n",
       "      <td>NaN</td>\n",
       "      <td>34.2790</td>\n",
       "      <td>-118.4116</td>\n",
       "    </tr>\n",
       "    <tr>\n",
       "      <th>694914</th>\n",
       "      <td>230906458</td>\n",
       "      <td>03/05/2023 12:00:00 AM</td>\n",
       "      <td>03/05/2023 12:00:00 AM</td>\n",
       "      <td>900</td>\n",
       "      <td>9</td>\n",
       "      <td>Van Nuys</td>\n",
       "      <td>914</td>\n",
       "      <td>2</td>\n",
       "      <td>745</td>\n",
       "      <td>VANDALISM - MISDEAMEANOR ($399 OR UNDER)</td>\n",
       "      <td>...</td>\n",
       "      <td>IC</td>\n",
       "      <td>Invest Cont</td>\n",
       "      <td>745.0</td>\n",
       "      <td>NaN</td>\n",
       "      <td>NaN</td>\n",
       "      <td>NaN</td>\n",
       "      <td>14500    HARTLAND                     ST</td>\n",
       "      <td>NaN</td>\n",
       "      <td>34.1951</td>\n",
       "      <td>-118.4487</td>\n",
       "    </tr>\n",
       "  </tbody>\n",
       "</table>\n",
       "<p>694915 rows × 28 columns</p>\n",
       "</div>"
      ],
      "text/plain": [
       "            DR_NO               Date Rptd                DATE OCC  TIME OCC  \\\n",
       "0        10304468  01/08/2020 12:00:00 AM  01/08/2020 12:00:00 AM      2230   \n",
       "1       190101086  01/02/2020 12:00:00 AM  01/01/2020 12:00:00 AM       330   \n",
       "2       200110444  04/14/2020 12:00:00 AM  02/13/2020 12:00:00 AM      1200   \n",
       "3       191501505  01/01/2020 12:00:00 AM  01/01/2020 12:00:00 AM      1730   \n",
       "4       191921269  01/01/2020 12:00:00 AM  01/01/2020 12:00:00 AM       415   \n",
       "...           ...                     ...                     ...       ...   \n",
       "694910  230804266  01/08/2023 12:00:00 AM  01/08/2023 12:00:00 AM      1030   \n",
       "694911  230109201  03/23/2023 12:00:00 AM  03/22/2023 12:00:00 AM      1830   \n",
       "694912  231604807  01/27/2023 12:00:00 AM  01/26/2023 12:00:00 AM      1800   \n",
       "694913  231606525  03/22/2023 12:00:00 AM  03/22/2023 12:00:00 AM      1000   \n",
       "694914  230906458  03/05/2023 12:00:00 AM  03/05/2023 12:00:00 AM       900   \n",
       "\n",
       "        AREA    AREA NAME  Rpt Dist No  Part 1-2  Crm Cd  \\\n",
       "0          3    Southwest          377         2     624   \n",
       "1          1      Central          163         2     624   \n",
       "2          1      Central          155         2     845   \n",
       "3         15  N Hollywood         1543         2     745   \n",
       "4         19      Mission         1998         2     740   \n",
       "...      ...          ...          ...       ...     ...   \n",
       "694910     8      West LA          839         1     341   \n",
       "694911     1      Central          111         1     440   \n",
       "694912    16     Foothill         1663         2     740   \n",
       "694913    16     Foothill         1602         1     230   \n",
       "694914     9     Van Nuys          914         2     745   \n",
       "\n",
       "                                              Crm Cd Desc  ... Status  \\\n",
       "0                                BATTERY - SIMPLE ASSAULT  ...     AO   \n",
       "1                                BATTERY - SIMPLE ASSAULT  ...     IC   \n",
       "2               SEX OFFENDER REGISTRANT OUT OF COMPLIANCE  ...     AA   \n",
       "3                VANDALISM - MISDEAMEANOR ($399 OR UNDER)  ...     IC   \n",
       "4       VANDALISM - FELONY ($400 & OVER, ALL CHURCH VA...  ...     IC   \n",
       "...                                                   ...  ...    ...   \n",
       "694910  THEFT-GRAND ($950.01 & OVER)EXCPT,GUNS,FOWL,LI...  ...     IC   \n",
       "694911                 THEFT PLAIN - PETTY ($950 & UNDER)  ...     IC   \n",
       "694912  VANDALISM - FELONY ($400 & OVER, ALL CHURCH VA...  ...     IC   \n",
       "694913     ASSAULT WITH DEADLY WEAPON, AGGRAVATED ASSAULT  ...     IC   \n",
       "694914           VANDALISM - MISDEAMEANOR ($399 OR UNDER)  ...     IC   \n",
       "\n",
       "         Status Desc Crm Cd 1 Crm Cd 2  Crm Cd 3 Crm Cd 4  \\\n",
       "0        Adult Other    624.0      NaN       NaN      NaN   \n",
       "1        Invest Cont    624.0      NaN       NaN      NaN   \n",
       "2       Adult Arrest    845.0      NaN       NaN      NaN   \n",
       "3        Invest Cont    745.0    998.0       NaN      NaN   \n",
       "4        Invest Cont    740.0      NaN       NaN      NaN   \n",
       "...              ...      ...      ...       ...      ...   \n",
       "694910   Invest Cont    341.0      NaN       NaN      NaN   \n",
       "694911   Invest Cont    440.0      NaN       NaN      NaN   \n",
       "694912   Invest Cont    740.0      NaN       NaN      NaN   \n",
       "694913   Invest Cont    230.0      NaN       NaN      NaN   \n",
       "694914   Invest Cont    745.0      NaN       NaN      NaN   \n",
       "\n",
       "                                        LOCATION Cross Street      LAT  \\\n",
       "0        1100 W  39TH                         PL          NaN  34.0141   \n",
       "1         700 S  HILL                         ST          NaN  34.0459   \n",
       "2         200 E  6TH                          ST          NaN  34.0448   \n",
       "3        5400    CORTEEN                      PL          NaN  34.1685   \n",
       "4       14400    TITUS                        ST          NaN  34.2198   \n",
       "...                                          ...          ...      ...   \n",
       "694910  10200    SANTA MONICA                 BL          NaN  34.0611   \n",
       "694911    700 W  CESAR E CHAVEZ               AV          NaN  34.0606   \n",
       "694912  12500    BRANFORD                     ST          NaN  34.2466   \n",
       "694913  12800    FILMORE                      ST          NaN  34.2790   \n",
       "694914  14500    HARTLAND                     ST          NaN  34.1951   \n",
       "\n",
       "             LON  \n",
       "0      -118.2978  \n",
       "1      -118.2545  \n",
       "2      -118.2474  \n",
       "3      -118.4019  \n",
       "4      -118.4468  \n",
       "...          ...  \n",
       "694910 -118.4184  \n",
       "694911 -118.2439  \n",
       "694912 -118.4054  \n",
       "694913 -118.4116  \n",
       "694914 -118.4487  \n",
       "\n",
       "[694915 rows x 28 columns]"
      ]
     },
     "execution_count": 7,
     "metadata": {},
     "output_type": "execute_result"
    }
   ],
   "source": [
    "crime_df"
   ]
  },
  {
   "cell_type": "code",
   "execution_count": 8,
   "id": "c23ed2d6",
   "metadata": {},
   "outputs": [
    {
     "data": {
      "text/plain": [
       "DR_NO              0.000000\n",
       "Date Rptd          0.000000\n",
       "DATE OCC           0.000000\n",
       "TIME OCC           0.000000\n",
       "AREA               0.000000\n",
       "AREA NAME          0.000000\n",
       "Rpt Dist No        0.000000\n",
       "Part 1-2           0.000000\n",
       "Crm Cd             0.000000\n",
       "Crm Cd Desc        0.000000\n",
       "Mocodes           13.751754\n",
       "Vict Age           0.000000\n",
       "Vict Sex          13.101746\n",
       "Vict Descent      13.102610\n",
       "Premis Cd          0.001151\n",
       "Premis Desc        0.052668\n",
       "Weapon Used Cd    65.257046\n",
       "Weapon Desc       65.257046\n",
       "Status             0.000000\n",
       "Status Desc        0.000000\n",
       "Crm Cd 1           0.001295\n",
       "Crm Cd 2          92.543548\n",
       "Crm Cd 3          99.748602\n",
       "Crm Cd 4          99.992517\n",
       "LOCATION           0.000000\n",
       "Cross Street      83.759596\n",
       "LAT                0.000000\n",
       "LON                0.000000\n",
       "dtype: float64"
      ]
     },
     "execution_count": 8,
     "metadata": {},
     "output_type": "execute_result"
    }
   ],
   "source": [
    "crime_df.isnull().mean() * 100"
   ]
  },
  {
   "cell_type": "code",
   "execution_count": 9,
   "id": "5cd8e617",
   "metadata": {},
   "outputs": [],
   "source": [
    "# As we can see it there are some columns which has 92%, 99.74, 99.99 of missing values, It means that we don't need these\n",
    "# to be able to continue all the process, what I am going to do is drop these colums and verify the columns which has 60% or 80%\n",
    "# Before I drop the columns the be able to visualize it better, I will plot the missing values too see it what we are dealing with. "
   ]
  },
  {
   "cell_type": "code",
   "execution_count": 10,
   "id": "3b47a477",
   "metadata": {},
   "outputs": [],
   "source": [
    "#pip install missingno"
   ]
  },
  {
   "cell_type": "code",
   "execution_count": 11,
   "id": "5e74a3b5",
   "metadata": {},
   "outputs": [
    {
     "data": {
      "image/png": "[encoded data removed]",
      "text/plain": [
       "<Figure size 2500x1000 with 2 Axes>"
      ]
     },
     "metadata": {},
     "output_type": "display_data"
    }
   ],
   "source": [
    "import missingno as msno\n",
    "\n",
    "ax = msno.matrix(crime_df.sample(500))\n",
    "#I plot a sample of 500 due to if I get more this graph could be too heavy. "
   ]
  },
  {
   "cell_type": "code",
   "execution_count": 12,
   "id": "e3801b73",
   "metadata": {},
   "outputs": [
    {
     "data": {
      "image/png": "[encoded data removed]",
      "text/plain": [
       "<Figure size 600x400 with 1 Axes>"
      ]
     },
     "metadata": {},
     "output_type": "display_data"
    }
   ],
   "source": [
    "#https://matplotlib.org/2.0.2/examples/color/colormaps_reference.html\n",
    "fig, ax = plt.subplots(figsize=(6, 4))\n",
    "(1 - crime_df.isnull().mean()).abs().plot.bar(ax=ax, colormap='tab10');"
   ]
  },
  {
   "cell_type": "code",
   "execution_count": 13,
   "id": "86f29eee",
   "metadata": {},
   "outputs": [
    {
     "data": {
      "image/png": "[encoded data removed]",
      "text/plain": [
       "<Figure size 600x600 with 2 Axes>"
      ]
     },
     "metadata": {},
     "output_type": "display_data"
    }
   ],
   "source": [
    "ax = msno.heatmap(crime_df, figsize=(6, 6))"
   ]
  },
  {
   "cell_type": "code",
   "execution_count": 14,
   "id": "ab1e7cc3",
   "metadata": {},
   "outputs": [],
   "source": [
    "crime_df.columns = crime_df.columns.str.replace(' ', '_')"
   ]
  },
  {
   "cell_type": "code",
   "execution_count": 15,
   "id": "dc948095",
   "metadata": {},
   "outputs": [
    {
     "data": {
      "text/html": [
       "<div>\n",
       "<style scoped>\n",
       "    .dataframe tbody tr th:only-of-type {\n",
       "        vertical-align: middle;\n",
       "    }\n",
       "\n",
       "    .dataframe tbody tr th {\n",
       "        vertical-align: top;\n",
       "    }\n",
       "\n",
       "    .dataframe thead th {\n",
       "        text-align: right;\n",
       "    }\n",
       "</style>\n",
       "<table border=\"1\" class=\"dataframe\">\n",
       "  <thead>\n",
       "    <tr style=\"text-align: right;\">\n",
       "      <th></th>\n",
       "      <th>DR_NO</th>\n",
       "      <th>Date_Rptd</th>\n",
       "      <th>DATE_OCC</th>\n",
       "      <th>TIME_OCC</th>\n",
       "      <th>AREA</th>\n",
       "      <th>AREA_NAME</th>\n",
       "      <th>Rpt_Dist_No</th>\n",
       "      <th>Part_1-2</th>\n",
       "      <th>Crm_Cd</th>\n",
       "      <th>Crm_Cd_Desc</th>\n",
       "      <th>...</th>\n",
       "      <th>Status</th>\n",
       "      <th>Status_Desc</th>\n",
       "      <th>Crm_Cd_1</th>\n",
       "      <th>Crm_Cd_2</th>\n",
       "      <th>Crm_Cd_3</th>\n",
       "      <th>Crm_Cd_4</th>\n",
       "      <th>LOCATION</th>\n",
       "      <th>Cross_Street</th>\n",
       "      <th>LAT</th>\n",
       "      <th>LON</th>\n",
       "    </tr>\n",
       "  </thead>\n",
       "  <tbody>\n",
       "    <tr>\n",
       "      <th>0</th>\n",
       "      <td>10304468</td>\n",
       "      <td>01/08/2020 12:00:00 AM</td>\n",
       "      <td>01/08/2020 12:00:00 AM</td>\n",
       "      <td>2230</td>\n",
       "      <td>3</td>\n",
       "      <td>Southwest</td>\n",
       "      <td>377</td>\n",
       "      <td>2</td>\n",
       "      <td>624</td>\n",
       "      <td>BATTERY - SIMPLE ASSAULT</td>\n",
       "      <td>...</td>\n",
       "      <td>AO</td>\n",
       "      <td>Adult Other</td>\n",
       "      <td>624.0</td>\n",
       "      <td>NaN</td>\n",
       "      <td>NaN</td>\n",
       "      <td>NaN</td>\n",
       "      <td>1100 W  39TH                         PL</td>\n",
       "      <td>NaN</td>\n",
       "      <td>34.0141</td>\n",
       "      <td>-118.2978</td>\n",
       "    </tr>\n",
       "    <tr>\n",
       "      <th>1</th>\n",
       "      <td>190101086</td>\n",
       "      <td>01/02/2020 12:00:00 AM</td>\n",
       "      <td>01/01/2020 12:00:00 AM</td>\n",
       "      <td>330</td>\n",
       "      <td>1</td>\n",
       "      <td>Central</td>\n",
       "      <td>163</td>\n",
       "      <td>2</td>\n",
       "      <td>624</td>\n",
       "      <td>BATTERY - SIMPLE ASSAULT</td>\n",
       "      <td>...</td>\n",
       "      <td>IC</td>\n",
       "      <td>Invest Cont</td>\n",
       "      <td>624.0</td>\n",
       "      <td>NaN</td>\n",
       "      <td>NaN</td>\n",
       "      <td>NaN</td>\n",
       "      <td>700 S  HILL                         ST</td>\n",
       "      <td>NaN</td>\n",
       "      <td>34.0459</td>\n",
       "      <td>-118.2545</td>\n",
       "    </tr>\n",
       "    <tr>\n",
       "      <th>2</th>\n",
       "      <td>200110444</td>\n",
       "      <td>04/14/2020 12:00:00 AM</td>\n",
       "      <td>02/13/2020 12:00:00 AM</td>\n",
       "      <td>1200</td>\n",
       "      <td>1</td>\n",
       "      <td>Central</td>\n",
       "      <td>155</td>\n",
       "      <td>2</td>\n",
       "      <td>845</td>\n",
       "      <td>SEX OFFENDER REGISTRANT OUT OF COMPLIANCE</td>\n",
       "      <td>...</td>\n",
       "      <td>AA</td>\n",
       "      <td>Adult Arrest</td>\n",
       "      <td>845.0</td>\n",
       "      <td>NaN</td>\n",
       "      <td>NaN</td>\n",
       "      <td>NaN</td>\n",
       "      <td>200 E  6TH                          ST</td>\n",
       "      <td>NaN</td>\n",
       "      <td>34.0448</td>\n",
       "      <td>-118.2474</td>\n",
       "    </tr>\n",
       "    <tr>\n",
       "      <th>3</th>\n",
       "      <td>191501505</td>\n",
       "      <td>01/01/2020 12:00:00 AM</td>\n",
       "      <td>01/01/2020 12:00:00 AM</td>\n",
       "      <td>1730</td>\n",
       "      <td>15</td>\n",
       "      <td>N Hollywood</td>\n",
       "      <td>1543</td>\n",
       "      <td>2</td>\n",
       "      <td>745</td>\n",
       "      <td>VANDALISM - MISDEAMEANOR ($399 OR UNDER)</td>\n",
       "      <td>...</td>\n",
       "      <td>IC</td>\n",
       "      <td>Invest Cont</td>\n",
       "      <td>745.0</td>\n",
       "      <td>998.0</td>\n",
       "      <td>NaN</td>\n",
       "      <td>NaN</td>\n",
       "      <td>5400    CORTEEN                      PL</td>\n",
       "      <td>NaN</td>\n",
       "      <td>34.1685</td>\n",
       "      <td>-118.4019</td>\n",
       "    </tr>\n",
       "    <tr>\n",
       "      <th>4</th>\n",
       "      <td>191921269</td>\n",
       "      <td>01/01/2020 12:00:00 AM</td>\n",
       "      <td>01/01/2020 12:00:00 AM</td>\n",
       "      <td>415</td>\n",
       "      <td>19</td>\n",
       "      <td>Mission</td>\n",
       "      <td>1998</td>\n",
       "      <td>2</td>\n",
       "      <td>740</td>\n",
       "      <td>VANDALISM - FELONY ($400 &amp; OVER, ALL CHURCH VA...</td>\n",
       "      <td>...</td>\n",
       "      <td>IC</td>\n",
       "      <td>Invest Cont</td>\n",
       "      <td>740.0</td>\n",
       "      <td>NaN</td>\n",
       "      <td>NaN</td>\n",
       "      <td>NaN</td>\n",
       "      <td>14400    TITUS                        ST</td>\n",
       "      <td>NaN</td>\n",
       "      <td>34.2198</td>\n",
       "      <td>-118.4468</td>\n",
       "    </tr>\n",
       "  </tbody>\n",
       "</table>\n",
       "<p>5 rows × 28 columns</p>\n",
       "</div>"
      ],
      "text/plain": [
       "       DR_NO               Date_Rptd                DATE_OCC  TIME_OCC  AREA  \\\n",
       "0   10304468  01/08/2020 12:00:00 AM  01/08/2020 12:00:00 AM      2230     3   \n",
       "1  190101086  01/02/2020 12:00:00 AM  01/01/2020 12:00:00 AM       330     1   \n",
       "2  200110444  04/14/2020 12:00:00 AM  02/13/2020 12:00:00 AM      1200     1   \n",
       "3  191501505  01/01/2020 12:00:00 AM  01/01/2020 12:00:00 AM      1730    15   \n",
       "4  191921269  01/01/2020 12:00:00 AM  01/01/2020 12:00:00 AM       415    19   \n",
       "\n",
       "     AREA_NAME  Rpt_Dist_No  Part_1-2  Crm_Cd  \\\n",
       "0    Southwest          377         2     624   \n",
       "1      Central          163         2     624   \n",
       "2      Central          155         2     845   \n",
       "3  N Hollywood         1543         2     745   \n",
       "4      Mission         1998         2     740   \n",
       "\n",
       "                                         Crm_Cd_Desc  ... Status  \\\n",
       "0                           BATTERY - SIMPLE ASSAULT  ...     AO   \n",
       "1                           BATTERY - SIMPLE ASSAULT  ...     IC   \n",
       "2          SEX OFFENDER REGISTRANT OUT OF COMPLIANCE  ...     AA   \n",
       "3           VANDALISM - MISDEAMEANOR ($399 OR UNDER)  ...     IC   \n",
       "4  VANDALISM - FELONY ($400 & OVER, ALL CHURCH VA...  ...     IC   \n",
       "\n",
       "    Status_Desc Crm_Cd_1 Crm_Cd_2  Crm_Cd_3 Crm_Cd_4  \\\n",
       "0   Adult Other    624.0      NaN       NaN      NaN   \n",
       "1   Invest Cont    624.0      NaN       NaN      NaN   \n",
       "2  Adult Arrest    845.0      NaN       NaN      NaN   \n",
       "3   Invest Cont    745.0    998.0       NaN      NaN   \n",
       "4   Invest Cont    740.0      NaN       NaN      NaN   \n",
       "\n",
       "                                   LOCATION Cross_Street      LAT       LON  \n",
       "0   1100 W  39TH                         PL          NaN  34.0141 -118.2978  \n",
       "1    700 S  HILL                         ST          NaN  34.0459 -118.2545  \n",
       "2    200 E  6TH                          ST          NaN  34.0448 -118.2474  \n",
       "3   5400    CORTEEN                      PL          NaN  34.1685 -118.4019  \n",
       "4  14400    TITUS                        ST          NaN  34.2198 -118.4468  \n",
       "\n",
       "[5 rows x 28 columns]"
      ]
     },
     "execution_count": 15,
     "metadata": {},
     "output_type": "execute_result"
    }
   ],
   "source": [
    "crime_df.head()"
   ]
  },
  {
   "cell_type": "code",
   "execution_count": 16,
   "id": "bda1ff33",
   "metadata": {},
   "outputs": [],
   "source": [
    "crime_df.drop(columns= ['Crm_Cd_2', 'Crm_Cd_3', 'Crm_Cd_4'], inplace=True)"
   ]
  },
  {
   "cell_type": "markdown",
   "id": "ed4a5f70",
   "metadata": {},
   "source": [
    "# Selecting features and Applying EDA. \n",
    "\n",
    "    In order to be able to answer to the questions:\n",
    "    Who is more likely to commit a crime? \n",
    "    Which mounth is more likely to happen a crime? \n",
    "    Where is consider more dangerous? \n",
    "    \n",
    "    I will select some features that is important to analyse and answer these questions: \n",
    "    \n",
    "       I have a data when occur the crime and the time (Explain the I use a process to create a new column with the mounth. \n",
    "       I also need to explain why these columns are important for my analysis. "
   ]
  },
  {
   "cell_type": "code",
   "execution_count": 17,
   "id": "59cc550c",
   "metadata": {},
   "outputs": [],
   "source": [
    "crime_df.drop(columns=['DR_NO', 'Date_Rptd','LAT', 'LON', 'Status_Desc', 'Part_1-2'], inplace=True)"
   ]
  },
  {
   "cell_type": "code",
   "execution_count": 18,
   "id": "b8954895",
   "metadata": {},
   "outputs": [
    {
     "data": {
      "text/html": [
       "<div>\n",
       "<style scoped>\n",
       "    .dataframe tbody tr th:only-of-type {\n",
       "        vertical-align: middle;\n",
       "    }\n",
       "\n",
       "    .dataframe tbody tr th {\n",
       "        vertical-align: top;\n",
       "    }\n",
       "\n",
       "    .dataframe thead th {\n",
       "        text-align: right;\n",
       "    }\n",
       "</style>\n",
       "<table border=\"1\" class=\"dataframe\">\n",
       "  <thead>\n",
       "    <tr style=\"text-align: right;\">\n",
       "      <th></th>\n",
       "      <th>DATE_OCC</th>\n",
       "      <th>TIME_OCC</th>\n",
       "      <th>AREA</th>\n",
       "      <th>AREA_NAME</th>\n",
       "      <th>Rpt_Dist_No</th>\n",
       "      <th>Crm_Cd</th>\n",
       "      <th>Crm_Cd_Desc</th>\n",
       "      <th>Mocodes</th>\n",
       "      <th>Vict_Age</th>\n",
       "      <th>Vict_Sex</th>\n",
       "      <th>Vict_Descent</th>\n",
       "      <th>Premis_Cd</th>\n",
       "      <th>Premis_Desc</th>\n",
       "      <th>Weapon_Used_Cd</th>\n",
       "      <th>Weapon_Desc</th>\n",
       "      <th>Status</th>\n",
       "      <th>Crm_Cd_1</th>\n",
       "      <th>LOCATION</th>\n",
       "      <th>Cross_Street</th>\n",
       "    </tr>\n",
       "  </thead>\n",
       "  <tbody>\n",
       "    <tr>\n",
       "      <th>0</th>\n",
       "      <td>01/08/2020 12:00:00 AM</td>\n",
       "      <td>2230</td>\n",
       "      <td>3</td>\n",
       "      <td>Southwest</td>\n",
       "      <td>377</td>\n",
       "      <td>624</td>\n",
       "      <td>BATTERY - SIMPLE ASSAULT</td>\n",
       "      <td>0444 0913</td>\n",
       "      <td>36</td>\n",
       "      <td>F</td>\n",
       "      <td>B</td>\n",
       "      <td>501.0</td>\n",
       "      <td>SINGLE FAMILY DWELLING</td>\n",
       "      <td>400.0</td>\n",
       "      <td>STRONG-ARM (HANDS, FIST, FEET OR BODILY FORCE)</td>\n",
       "      <td>AO</td>\n",
       "      <td>624.0</td>\n",
       "      <td>1100 W  39TH                         PL</td>\n",
       "      <td>NaN</td>\n",
       "    </tr>\n",
       "    <tr>\n",
       "      <th>1</th>\n",
       "      <td>01/01/2020 12:00:00 AM</td>\n",
       "      <td>330</td>\n",
       "      <td>1</td>\n",
       "      <td>Central</td>\n",
       "      <td>163</td>\n",
       "      <td>624</td>\n",
       "      <td>BATTERY - SIMPLE ASSAULT</td>\n",
       "      <td>0416 1822 1414</td>\n",
       "      <td>25</td>\n",
       "      <td>M</td>\n",
       "      <td>H</td>\n",
       "      <td>102.0</td>\n",
       "      <td>SIDEWALK</td>\n",
       "      <td>500.0</td>\n",
       "      <td>UNKNOWN WEAPON/OTHER WEAPON</td>\n",
       "      <td>IC</td>\n",
       "      <td>624.0</td>\n",
       "      <td>700 S  HILL                         ST</td>\n",
       "      <td>NaN</td>\n",
       "    </tr>\n",
       "    <tr>\n",
       "      <th>2</th>\n",
       "      <td>02/13/2020 12:00:00 AM</td>\n",
       "      <td>1200</td>\n",
       "      <td>1</td>\n",
       "      <td>Central</td>\n",
       "      <td>155</td>\n",
       "      <td>845</td>\n",
       "      <td>SEX OFFENDER REGISTRANT OUT OF COMPLIANCE</td>\n",
       "      <td>1501</td>\n",
       "      <td>0</td>\n",
       "      <td>X</td>\n",
       "      <td>X</td>\n",
       "      <td>726.0</td>\n",
       "      <td>POLICE FACILITY</td>\n",
       "      <td>NaN</td>\n",
       "      <td>NaN</td>\n",
       "      <td>AA</td>\n",
       "      <td>845.0</td>\n",
       "      <td>200 E  6TH                          ST</td>\n",
       "      <td>NaN</td>\n",
       "    </tr>\n",
       "    <tr>\n",
       "      <th>3</th>\n",
       "      <td>01/01/2020 12:00:00 AM</td>\n",
       "      <td>1730</td>\n",
       "      <td>15</td>\n",
       "      <td>N Hollywood</td>\n",
       "      <td>1543</td>\n",
       "      <td>745</td>\n",
       "      <td>VANDALISM - MISDEAMEANOR ($399 OR UNDER)</td>\n",
       "      <td>0329 1402</td>\n",
       "      <td>76</td>\n",
       "      <td>F</td>\n",
       "      <td>W</td>\n",
       "      <td>502.0</td>\n",
       "      <td>MULTI-UNIT DWELLING (APARTMENT, DUPLEX, ETC)</td>\n",
       "      <td>NaN</td>\n",
       "      <td>NaN</td>\n",
       "      <td>IC</td>\n",
       "      <td>745.0</td>\n",
       "      <td>5400    CORTEEN                      PL</td>\n",
       "      <td>NaN</td>\n",
       "    </tr>\n",
       "    <tr>\n",
       "      <th>4</th>\n",
       "      <td>01/01/2020 12:00:00 AM</td>\n",
       "      <td>415</td>\n",
       "      <td>19</td>\n",
       "      <td>Mission</td>\n",
       "      <td>1998</td>\n",
       "      <td>740</td>\n",
       "      <td>VANDALISM - FELONY ($400 &amp; OVER, ALL CHURCH VA...</td>\n",
       "      <td>0329</td>\n",
       "      <td>31</td>\n",
       "      <td>X</td>\n",
       "      <td>X</td>\n",
       "      <td>409.0</td>\n",
       "      <td>BEAUTY SUPPLY STORE</td>\n",
       "      <td>NaN</td>\n",
       "      <td>NaN</td>\n",
       "      <td>IC</td>\n",
       "      <td>740.0</td>\n",
       "      <td>14400    TITUS                        ST</td>\n",
       "      <td>NaN</td>\n",
       "    </tr>\n",
       "  </tbody>\n",
       "</table>\n",
       "</div>"
      ],
      "text/plain": [
       "                 DATE_OCC  TIME_OCC  AREA    AREA_NAME  Rpt_Dist_No  Crm_Cd  \\\n",
       "0  01/08/2020 12:00:00 AM      2230     3    Southwest          377     624   \n",
       "1  01/01/2020 12:00:00 AM       330     1      Central          163     624   \n",
       "2  02/13/2020 12:00:00 AM      1200     1      Central          155     845   \n",
       "3  01/01/2020 12:00:00 AM      1730    15  N Hollywood         1543     745   \n",
       "4  01/01/2020 12:00:00 AM       415    19      Mission         1998     740   \n",
       "\n",
       "                                         Crm_Cd_Desc         Mocodes  \\\n",
       "0                           BATTERY - SIMPLE ASSAULT       0444 0913   \n",
       "1                           BATTERY - SIMPLE ASSAULT  0416 1822 1414   \n",
       "2          SEX OFFENDER REGISTRANT OUT OF COMPLIANCE            1501   \n",
       "3           VANDALISM - MISDEAMEANOR ($399 OR UNDER)       0329 1402   \n",
       "4  VANDALISM - FELONY ($400 & OVER, ALL CHURCH VA...            0329   \n",
       "\n",
       "   Vict_Age Vict_Sex Vict_Descent  Premis_Cd  \\\n",
       "0        36        F            B      501.0   \n",
       "1        25        M            H      102.0   \n",
       "2         0        X            X      726.0   \n",
       "3        76        F            W      502.0   \n",
       "4        31        X            X      409.0   \n",
       "\n",
       "                                    Premis_Desc  Weapon_Used_Cd  \\\n",
       "0                        SINGLE FAMILY DWELLING           400.0   \n",
       "1                                      SIDEWALK           500.0   \n",
       "2                               POLICE FACILITY             NaN   \n",
       "3  MULTI-UNIT DWELLING (APARTMENT, DUPLEX, ETC)             NaN   \n",
       "4                           BEAUTY SUPPLY STORE             NaN   \n",
       "\n",
       "                                      Weapon_Desc Status  Crm_Cd_1  \\\n",
       "0  STRONG-ARM (HANDS, FIST, FEET OR BODILY FORCE)     AO     624.0   \n",
       "1                     UNKNOWN WEAPON/OTHER WEAPON     IC     624.0   \n",
       "2                                             NaN     AA     845.0   \n",
       "3                                             NaN     IC     745.0   \n",
       "4                                             NaN     IC     740.0   \n",
       "\n",
       "                                   LOCATION Cross_Street  \n",
       "0   1100 W  39TH                         PL          NaN  \n",
       "1    700 S  HILL                         ST          NaN  \n",
       "2    200 E  6TH                          ST          NaN  \n",
       "3   5400    CORTEEN                      PL          NaN  \n",
       "4  14400    TITUS                        ST          NaN  "
      ]
     },
     "execution_count": 18,
     "metadata": {},
     "output_type": "execute_result"
    }
   ],
   "source": [
    "crime_df.head()"
   ]
  },
  {
   "cell_type": "code",
   "execution_count": 19,
   "id": "50f30203",
   "metadata": {},
   "outputs": [],
   "source": [
    "crime_df['DATE_OCC'] = pd.to_datetime(crime_df['DATE_OCC'], format='%m/%d/%Y %I:%M:%S %p')\n"
   ]
  },
  {
   "cell_type": "code",
   "execution_count": 20,
   "id": "2eb646fa",
   "metadata": {},
   "outputs": [],
   "source": [
    "crime_df['month'] = crime_df['DATE_OCC'].dt.month"
   ]
  },
  {
   "cell_type": "markdown",
   "id": "ea31de05",
   "metadata": {},
   "source": [
    "# Creating Features\n",
    "### Cleaning the data\n",
    "\n",
    "    I am creating new features due to I do not think I can use the feature DATE_OCC set up like 2020-01-08, What I did was: \n",
    "    1 ) I created a new feature call month which I can see it which month happen the crime. \n",
    "    2 ) I created another one call year which I will be able to see if it happens 2020 or 2021 and so on... \n",
    "    "
   ]
  },
  {
   "cell_type": "code",
   "execution_count": 21,
   "id": "743c0cfa",
   "metadata": {},
   "outputs": [],
   "source": [
    "crime_df['year'] = crime_df['DATE_OCC'].dt.year"
   ]
  },
  {
   "cell_type": "code",
   "execution_count": 22,
   "id": "1810dd70",
   "metadata": {},
   "outputs": [
    {
     "data": {
      "text/html": [
       "<div>\n",
       "<style scoped>\n",
       "    .dataframe tbody tr th:only-of-type {\n",
       "        vertical-align: middle;\n",
       "    }\n",
       "\n",
       "    .dataframe tbody tr th {\n",
       "        vertical-align: top;\n",
       "    }\n",
       "\n",
       "    .dataframe thead th {\n",
       "        text-align: right;\n",
       "    }\n",
       "</style>\n",
       "<table border=\"1\" class=\"dataframe\">\n",
       "  <thead>\n",
       "    <tr style=\"text-align: right;\">\n",
       "      <th></th>\n",
       "      <th>DATE_OCC</th>\n",
       "      <th>TIME_OCC</th>\n",
       "      <th>AREA</th>\n",
       "      <th>AREA_NAME</th>\n",
       "      <th>Rpt_Dist_No</th>\n",
       "      <th>Crm_Cd</th>\n",
       "      <th>Crm_Cd_Desc</th>\n",
       "      <th>Mocodes</th>\n",
       "      <th>Vict_Age</th>\n",
       "      <th>Vict_Sex</th>\n",
       "      <th>...</th>\n",
       "      <th>Premis_Cd</th>\n",
       "      <th>Premis_Desc</th>\n",
       "      <th>Weapon_Used_Cd</th>\n",
       "      <th>Weapon_Desc</th>\n",
       "      <th>Status</th>\n",
       "      <th>Crm_Cd_1</th>\n",
       "      <th>LOCATION</th>\n",
       "      <th>Cross_Street</th>\n",
       "      <th>month</th>\n",
       "      <th>year</th>\n",
       "    </tr>\n",
       "  </thead>\n",
       "  <tbody>\n",
       "    <tr>\n",
       "      <th>0</th>\n",
       "      <td>2020-01-08</td>\n",
       "      <td>2230</td>\n",
       "      <td>3</td>\n",
       "      <td>Southwest</td>\n",
       "      <td>377</td>\n",
       "      <td>624</td>\n",
       "      <td>BATTERY - SIMPLE ASSAULT</td>\n",
       "      <td>0444 0913</td>\n",
       "      <td>36</td>\n",
       "      <td>F</td>\n",
       "      <td>...</td>\n",
       "      <td>501.0</td>\n",
       "      <td>SINGLE FAMILY DWELLING</td>\n",
       "      <td>400.0</td>\n",
       "      <td>STRONG-ARM (HANDS, FIST, FEET OR BODILY FORCE)</td>\n",
       "      <td>AO</td>\n",
       "      <td>624.0</td>\n",
       "      <td>1100 W  39TH                         PL</td>\n",
       "      <td>NaN</td>\n",
       "      <td>1</td>\n",
       "      <td>2020</td>\n",
       "    </tr>\n",
       "    <tr>\n",
       "      <th>1</th>\n",
       "      <td>2020-01-01</td>\n",
       "      <td>330</td>\n",
       "      <td>1</td>\n",
       "      <td>Central</td>\n",
       "      <td>163</td>\n",
       "      <td>624</td>\n",
       "      <td>BATTERY - SIMPLE ASSAULT</td>\n",
       "      <td>0416 1822 1414</td>\n",
       "      <td>25</td>\n",
       "      <td>M</td>\n",
       "      <td>...</td>\n",
       "      <td>102.0</td>\n",
       "      <td>SIDEWALK</td>\n",
       "      <td>500.0</td>\n",
       "      <td>UNKNOWN WEAPON/OTHER WEAPON</td>\n",
       "      <td>IC</td>\n",
       "      <td>624.0</td>\n",
       "      <td>700 S  HILL                         ST</td>\n",
       "      <td>NaN</td>\n",
       "      <td>1</td>\n",
       "      <td>2020</td>\n",
       "    </tr>\n",
       "    <tr>\n",
       "      <th>2</th>\n",
       "      <td>2020-02-13</td>\n",
       "      <td>1200</td>\n",
       "      <td>1</td>\n",
       "      <td>Central</td>\n",
       "      <td>155</td>\n",
       "      <td>845</td>\n",
       "      <td>SEX OFFENDER REGISTRANT OUT OF COMPLIANCE</td>\n",
       "      <td>1501</td>\n",
       "      <td>0</td>\n",
       "      <td>X</td>\n",
       "      <td>...</td>\n",
       "      <td>726.0</td>\n",
       "      <td>POLICE FACILITY</td>\n",
       "      <td>NaN</td>\n",
       "      <td>NaN</td>\n",
       "      <td>AA</td>\n",
       "      <td>845.0</td>\n",
       "      <td>200 E  6TH                          ST</td>\n",
       "      <td>NaN</td>\n",
       "      <td>2</td>\n",
       "      <td>2020</td>\n",
       "    </tr>\n",
       "    <tr>\n",
       "      <th>3</th>\n",
       "      <td>2020-01-01</td>\n",
       "      <td>1730</td>\n",
       "      <td>15</td>\n",
       "      <td>N Hollywood</td>\n",
       "      <td>1543</td>\n",
       "      <td>745</td>\n",
       "      <td>VANDALISM - MISDEAMEANOR ($399 OR UNDER)</td>\n",
       "      <td>0329 1402</td>\n",
       "      <td>76</td>\n",
       "      <td>F</td>\n",
       "      <td>...</td>\n",
       "      <td>502.0</td>\n",
       "      <td>MULTI-UNIT DWELLING (APARTMENT, DUPLEX, ETC)</td>\n",
       "      <td>NaN</td>\n",
       "      <td>NaN</td>\n",
       "      <td>IC</td>\n",
       "      <td>745.0</td>\n",
       "      <td>5400    CORTEEN                      PL</td>\n",
       "      <td>NaN</td>\n",
       "      <td>1</td>\n",
       "      <td>2020</td>\n",
       "    </tr>\n",
       "    <tr>\n",
       "      <th>4</th>\n",
       "      <td>2020-01-01</td>\n",
       "      <td>415</td>\n",
       "      <td>19</td>\n",
       "      <td>Mission</td>\n",
       "      <td>1998</td>\n",
       "      <td>740</td>\n",
       "      <td>VANDALISM - FELONY ($400 &amp; OVER, ALL CHURCH VA...</td>\n",
       "      <td>0329</td>\n",
       "      <td>31</td>\n",
       "      <td>X</td>\n",
       "      <td>...</td>\n",
       "      <td>409.0</td>\n",
       "      <td>BEAUTY SUPPLY STORE</td>\n",
       "      <td>NaN</td>\n",
       "      <td>NaN</td>\n",
       "      <td>IC</td>\n",
       "      <td>740.0</td>\n",
       "      <td>14400    TITUS                        ST</td>\n",
       "      <td>NaN</td>\n",
       "      <td>1</td>\n",
       "      <td>2020</td>\n",
       "    </tr>\n",
       "  </tbody>\n",
       "</table>\n",
       "<p>5 rows × 21 columns</p>\n",
       "</div>"
      ],
      "text/plain": [
       "    DATE_OCC  TIME_OCC  AREA    AREA_NAME  Rpt_Dist_No  Crm_Cd  \\\n",
       "0 2020-01-08      2230     3    Southwest          377     624   \n",
       "1 2020-01-01       330     1      Central          163     624   \n",
       "2 2020-02-13      1200     1      Central          155     845   \n",
       "3 2020-01-01      1730    15  N Hollywood         1543     745   \n",
       "4 2020-01-01       415    19      Mission         1998     740   \n",
       "\n",
       "                                         Crm_Cd_Desc         Mocodes  \\\n",
       "0                           BATTERY - SIMPLE ASSAULT       0444 0913   \n",
       "1                           BATTERY - SIMPLE ASSAULT  0416 1822 1414   \n",
       "2          SEX OFFENDER REGISTRANT OUT OF COMPLIANCE            1501   \n",
       "3           VANDALISM - MISDEAMEANOR ($399 OR UNDER)       0329 1402   \n",
       "4  VANDALISM - FELONY ($400 & OVER, ALL CHURCH VA...            0329   \n",
       "\n",
       "   Vict_Age Vict_Sex  ... Premis_Cd  \\\n",
       "0        36        F  ...     501.0   \n",
       "1        25        M  ...     102.0   \n",
       "2         0        X  ...     726.0   \n",
       "3        76        F  ...     502.0   \n",
       "4        31        X  ...     409.0   \n",
       "\n",
       "                                    Premis_Desc Weapon_Used_Cd  \\\n",
       "0                        SINGLE FAMILY DWELLING          400.0   \n",
       "1                                      SIDEWALK          500.0   \n",
       "2                               POLICE FACILITY            NaN   \n",
       "3  MULTI-UNIT DWELLING (APARTMENT, DUPLEX, ETC)            NaN   \n",
       "4                           BEAUTY SUPPLY STORE            NaN   \n",
       "\n",
       "                                      Weapon_Desc Status Crm_Cd_1  \\\n",
       "0  STRONG-ARM (HANDS, FIST, FEET OR BODILY FORCE)     AO    624.0   \n",
       "1                     UNKNOWN WEAPON/OTHER WEAPON     IC    624.0   \n",
       "2                                             NaN     AA    845.0   \n",
       "3                                             NaN     IC    745.0   \n",
       "4                                             NaN     IC    740.0   \n",
       "\n",
       "                                   LOCATION Cross_Street month  year  \n",
       "0   1100 W  39TH                         PL          NaN     1  2020  \n",
       "1    700 S  HILL                         ST          NaN     1  2020  \n",
       "2    200 E  6TH                          ST          NaN     2  2020  \n",
       "3   5400    CORTEEN                      PL          NaN     1  2020  \n",
       "4  14400    TITUS                        ST          NaN     1  2020  \n",
       "\n",
       "[5 rows x 21 columns]"
      ]
     },
     "execution_count": 22,
     "metadata": {},
     "output_type": "execute_result"
    }
   ],
   "source": [
    "crime_df.head()"
   ]
  },
  {
   "cell_type": "code",
   "execution_count": 23,
   "id": "a22fae03",
   "metadata": {},
   "outputs": [
    {
     "data": {
      "text/plain": [
       "DATE_OCC           0.000000\n",
       "TIME_OCC           0.000000\n",
       "AREA               0.000000\n",
       "AREA_NAME          0.000000\n",
       "Rpt_Dist_No        0.000000\n",
       "Crm_Cd             0.000000\n",
       "Crm_Cd_Desc        0.000000\n",
       "Mocodes           13.751754\n",
       "Vict_Age           0.000000\n",
       "Vict_Sex          13.101746\n",
       "Vict_Descent      13.102610\n",
       "Premis_Cd          0.001151\n",
       "Premis_Desc        0.052668\n",
       "Weapon_Used_Cd    65.257046\n",
       "Weapon_Desc       65.257046\n",
       "Status             0.000000\n",
       "Crm_Cd_1           0.001295\n",
       "LOCATION           0.000000\n",
       "Cross_Street      83.759596\n",
       "month              0.000000\n",
       "year               0.000000\n",
       "dtype: float64"
      ]
     },
     "execution_count": 23,
     "metadata": {},
     "output_type": "execute_result"
    }
   ],
   "source": [
    "crime_df.isnull().mean() * 100"
   ]
  },
  {
   "cell_type": "code",
   "execution_count": 24,
   "id": "7048642d",
   "metadata": {},
   "outputs": [],
   "source": [
    "# As we can see there are 80% of missing values, for what we are looking for this feature is not important, so Im going to drop it. \n",
    "# mocodes are also not interested for our analyze. \n",
    "\n",
    "crime_df.drop(columns=['Mocodes', 'Cross_Street', 'Crm_Cd_Desc', 'DATE_OCC', 'Premis_Desc', \n",
    "                       'LOCATION', 'AREA_NAME', 'Weapon_Desc', 'Status' ], inplace=True)\n"
   ]
  },
  {
   "cell_type": "code",
   "execution_count": 25,
   "id": "ade45743",
   "metadata": {},
   "outputs": [
    {
     "data": {
      "text/plain": [
       "TIME_OCC           0.000000\n",
       "AREA               0.000000\n",
       "Rpt_Dist_No        0.000000\n",
       "Crm_Cd             0.000000\n",
       "Vict_Age           0.000000\n",
       "Vict_Sex          13.101746\n",
       "Vict_Descent      13.102610\n",
       "Premis_Cd          0.001151\n",
       "Weapon_Used_Cd    65.257046\n",
       "Crm_Cd_1           0.001295\n",
       "month              0.000000\n",
       "year               0.000000\n",
       "dtype: float64"
      ]
     },
     "execution_count": 25,
     "metadata": {},
     "output_type": "execute_result"
    }
   ],
   "source": [
    "crime_df.isnull().mean() * 100"
   ]
  },
  {
   "cell_type": "code",
   "execution_count": 26,
   "id": "faaad43f",
   "metadata": {},
   "outputs": [
    {
     "data": {
      "text/plain": [
       "Vict_Sex\n",
       "M      288736\n",
       "F      257175\n",
       "NaN     91046\n",
       "X       57877\n",
       "H          81\n",
       "Name: count, dtype: int64"
      ]
     },
     "execution_count": 26,
     "metadata": {},
     "output_type": "execute_result"
    }
   ],
   "source": [
    "crime_df.Vict_Sex.value_counts(dropna=False)"
   ]
  },
  {
   "cell_type": "code",
   "execution_count": 27,
   "id": "55aaf789",
   "metadata": {},
   "outputs": [
    {
     "data": {
      "text/plain": [
       "count     603869\n",
       "unique         4\n",
       "top            M\n",
       "freq      288736\n",
       "Name: Vict_Sex, dtype: object"
      ]
     },
     "execution_count": 27,
     "metadata": {},
     "output_type": "execute_result"
    }
   ],
   "source": [
    "crime_df.Vict_Sex.describe()"
   ]
  },
  {
   "cell_type": "code",
   "execution_count": 28,
   "id": "cc1d5aae",
   "metadata": {},
   "outputs": [
    {
     "data": {
      "text/plain": [
       "91046"
      ]
     },
     "execution_count": 28,
     "metadata": {},
     "output_type": "execute_result"
    }
   ],
   "source": [
    "crime_df['Vict_Sex'].isnull().sum()"
   ]
  },
  {
   "cell_type": "code",
   "execution_count": 29,
   "id": "b737822d",
   "metadata": {},
   "outputs": [
    {
     "data": {
      "image/png": "[encoded data removed]",
      "text/plain": [
       "<Figure size 640x480 with 1 Axes>"
      ]
     },
     "metadata": {},
     "output_type": "display_data"
    }
   ],
   "source": [
    "import matplotlib.pyplot as plt\n",
    "import seaborn as sns\n",
    "\n",
    "\n",
    "sns.countplot(x='Vict_Sex', data=crime_df)\n",
    "plt.title('Distribution of Gender')\n",
    "plt.show()\n",
    "\n"
   ]
  },
  {
   "cell_type": "markdown",
   "id": "7c2c4672",
   "metadata": {},
   "source": [
    "# Plotting this column we can observate that we have more than 250.000 male that commited a crime: Explain a little be more about it. \n"
   ]
  },
  {
   "cell_type": "code",
   "execution_count": 30,
   "id": "cf0d1df6",
   "metadata": {},
   "outputs": [
    {
     "name": "stdout",
     "output_type": "stream",
     "text": [
      "Vict_Sex\n",
      "M    47.814344\n",
      "F    42.587879\n",
      "X     9.584363\n",
      "H     0.013414\n",
      "Name: proportion, dtype: float64\n"
     ]
    }
   ],
   "source": [
    "print(crime_df['Vict_Sex'].value_counts(normalize=True) * 100)\n"
   ]
  },
  {
   "cell_type": "code",
   "execution_count": 31,
   "id": "1e205188",
   "metadata": {},
   "outputs": [],
   "source": [
    "# I had to get this code, to change my H and NaN for Unknow. \n",
    "def gender_values(data):\n",
    "    new_gender = []\n",
    "    for gen in data[\"Vict_Sex\"]:\n",
    "        if gen == \"M\":\n",
    "            new_gender.append(0)\n",
    "        elif gen == \"F\":\n",
    "            new_gender.append(1)\n",
    "        else:\n",
    "            new_gender.append(2)\n",
    "    return new_gender"
   ]
  },
  {
   "cell_type": "code",
   "execution_count": 32,
   "id": "aee752a1",
   "metadata": {},
   "outputs": [
    {
     "data": {
      "text/html": [
       "<div>\n",
       "<style scoped>\n",
       "    .dataframe tbody tr th:only-of-type {\n",
       "        vertical-align: middle;\n",
       "    }\n",
       "\n",
       "    .dataframe tbody tr th {\n",
       "        vertical-align: top;\n",
       "    }\n",
       "\n",
       "    .dataframe thead th {\n",
       "        text-align: right;\n",
       "    }\n",
       "</style>\n",
       "<table border=\"1\" class=\"dataframe\">\n",
       "  <thead>\n",
       "    <tr style=\"text-align: right;\">\n",
       "      <th></th>\n",
       "      <th>TIME_OCC</th>\n",
       "      <th>AREA</th>\n",
       "      <th>Rpt_Dist_No</th>\n",
       "      <th>Crm_Cd</th>\n",
       "      <th>Vict_Age</th>\n",
       "      <th>Vict_Sex</th>\n",
       "      <th>Vict_Descent</th>\n",
       "      <th>Premis_Cd</th>\n",
       "      <th>Weapon_Used_Cd</th>\n",
       "      <th>Crm_Cd_1</th>\n",
       "      <th>month</th>\n",
       "      <th>year</th>\n",
       "      <th>Vict_Gender</th>\n",
       "    </tr>\n",
       "  </thead>\n",
       "  <tbody>\n",
       "    <tr>\n",
       "      <th>0</th>\n",
       "      <td>2230</td>\n",
       "      <td>3</td>\n",
       "      <td>377</td>\n",
       "      <td>624</td>\n",
       "      <td>36</td>\n",
       "      <td>F</td>\n",
       "      <td>B</td>\n",
       "      <td>501.0</td>\n",
       "      <td>400.0</td>\n",
       "      <td>624.0</td>\n",
       "      <td>1</td>\n",
       "      <td>2020</td>\n",
       "      <td>1</td>\n",
       "    </tr>\n",
       "    <tr>\n",
       "      <th>1</th>\n",
       "      <td>330</td>\n",
       "      <td>1</td>\n",
       "      <td>163</td>\n",
       "      <td>624</td>\n",
       "      <td>25</td>\n",
       "      <td>M</td>\n",
       "      <td>H</td>\n",
       "      <td>102.0</td>\n",
       "      <td>500.0</td>\n",
       "      <td>624.0</td>\n",
       "      <td>1</td>\n",
       "      <td>2020</td>\n",
       "      <td>0</td>\n",
       "    </tr>\n",
       "    <tr>\n",
       "      <th>2</th>\n",
       "      <td>1200</td>\n",
       "      <td>1</td>\n",
       "      <td>155</td>\n",
       "      <td>845</td>\n",
       "      <td>0</td>\n",
       "      <td>X</td>\n",
       "      <td>X</td>\n",
       "      <td>726.0</td>\n",
       "      <td>NaN</td>\n",
       "      <td>845.0</td>\n",
       "      <td>2</td>\n",
       "      <td>2020</td>\n",
       "      <td>2</td>\n",
       "    </tr>\n",
       "    <tr>\n",
       "      <th>3</th>\n",
       "      <td>1730</td>\n",
       "      <td>15</td>\n",
       "      <td>1543</td>\n",
       "      <td>745</td>\n",
       "      <td>76</td>\n",
       "      <td>F</td>\n",
       "      <td>W</td>\n",
       "      <td>502.0</td>\n",
       "      <td>NaN</td>\n",
       "      <td>745.0</td>\n",
       "      <td>1</td>\n",
       "      <td>2020</td>\n",
       "      <td>1</td>\n",
       "    </tr>\n",
       "    <tr>\n",
       "      <th>4</th>\n",
       "      <td>415</td>\n",
       "      <td>19</td>\n",
       "      <td>1998</td>\n",
       "      <td>740</td>\n",
       "      <td>31</td>\n",
       "      <td>X</td>\n",
       "      <td>X</td>\n",
       "      <td>409.0</td>\n",
       "      <td>NaN</td>\n",
       "      <td>740.0</td>\n",
       "      <td>1</td>\n",
       "      <td>2020</td>\n",
       "      <td>2</td>\n",
       "    </tr>\n",
       "  </tbody>\n",
       "</table>\n",
       "</div>"
      ],
      "text/plain": [
       "   TIME_OCC  AREA  Rpt_Dist_No  Crm_Cd  Vict_Age Vict_Sex Vict_Descent  \\\n",
       "0      2230     3          377     624        36        F            B   \n",
       "1       330     1          163     624        25        M            H   \n",
       "2      1200     1          155     845         0        X            X   \n",
       "3      1730    15         1543     745        76        F            W   \n",
       "4       415    19         1998     740        31        X            X   \n",
       "\n",
       "   Premis_Cd  Weapon_Used_Cd  Crm_Cd_1  month  year  Vict_Gender  \n",
       "0      501.0           400.0     624.0      1  2020            1  \n",
       "1      102.0           500.0     624.0      1  2020            0  \n",
       "2      726.0             NaN     845.0      2  2020            2  \n",
       "3      502.0             NaN     745.0      1  2020            1  \n",
       "4      409.0             NaN     740.0      1  2020            2  "
      ]
     },
     "execution_count": 32,
     "metadata": {},
     "output_type": "execute_result"
    }
   ],
   "source": [
    "new_gender = gender_values(data=crime_df)\n",
    "crime_df[\"Vict_Gender\"] = new_gender\n",
    "crime_df.head()"
   ]
  },
  {
   "cell_type": "code",
   "execution_count": 33,
   "id": "50e2c4d8",
   "metadata": {},
   "outputs": [
    {
     "data": {
      "text/plain": [
       "Vict_Gender\n",
       "0    288736\n",
       "1    257175\n",
       "2    149004\n",
       "Name: count, dtype: int64"
      ]
     },
     "execution_count": 33,
     "metadata": {},
     "output_type": "execute_result"
    }
   ],
   "source": [
    "crime_df.Vict_Gender.value_counts(dropna=False)"
   ]
  },
  {
   "cell_type": "code",
   "execution_count": 34,
   "id": "8da7880a",
   "metadata": {},
   "outputs": [
    {
     "data": {
      "image/png": "[encoded data removed]",
      "text/plain": [
       "<Figure size 640x480 with 1 Axes>"
      ]
     },
     "metadata": {},
     "output_type": "display_data"
    }
   ],
   "source": [
    "import matplotlib.pyplot as plt\n",
    "import seaborn as sns\n",
    "\n",
    "\n",
    "sns.countplot(x='Vict_Gender', data=crime_df)\n",
    "plt.title('Distribution of Gender')\n",
    "plt.show()\n",
    "\n",
    "# In this plot we can see the distribution of our feature Vict_gender "
   ]
  },
  {
   "cell_type": "code",
   "execution_count": 35,
   "id": "131040bb",
   "metadata": {},
   "outputs": [],
   "source": [
    "# Column fix it. \n",
    "# Now I can drop the colum Vict_sex. \n"
   ]
  },
  {
   "cell_type": "code",
   "execution_count": 36,
   "id": "5009b430",
   "metadata": {},
   "outputs": [],
   "source": [
    "crime_df.drop(columns=['Vict_Sex'], inplace=True)\n"
   ]
  },
  {
   "cell_type": "code",
   "execution_count": 37,
   "id": "a6d23fd5",
   "metadata": {},
   "outputs": [
    {
     "data": {
      "text/html": [
       "<div>\n",
       "<style scoped>\n",
       "    .dataframe tbody tr th:only-of-type {\n",
       "        vertical-align: middle;\n",
       "    }\n",
       "\n",
       "    .dataframe tbody tr th {\n",
       "        vertical-align: top;\n",
       "    }\n",
       "\n",
       "    .dataframe thead th {\n",
       "        text-align: right;\n",
       "    }\n",
       "</style>\n",
       "<table border=\"1\" class=\"dataframe\">\n",
       "  <thead>\n",
       "    <tr style=\"text-align: right;\">\n",
       "      <th></th>\n",
       "      <th>TIME_OCC</th>\n",
       "      <th>AREA</th>\n",
       "      <th>Rpt_Dist_No</th>\n",
       "      <th>Crm_Cd</th>\n",
       "      <th>Vict_Age</th>\n",
       "      <th>Vict_Descent</th>\n",
       "      <th>Premis_Cd</th>\n",
       "      <th>Weapon_Used_Cd</th>\n",
       "      <th>Crm_Cd_1</th>\n",
       "      <th>month</th>\n",
       "      <th>year</th>\n",
       "      <th>Vict_Gender</th>\n",
       "    </tr>\n",
       "  </thead>\n",
       "  <tbody>\n",
       "    <tr>\n",
       "      <th>0</th>\n",
       "      <td>2230</td>\n",
       "      <td>3</td>\n",
       "      <td>377</td>\n",
       "      <td>624</td>\n",
       "      <td>36</td>\n",
       "      <td>B</td>\n",
       "      <td>501.0</td>\n",
       "      <td>400.0</td>\n",
       "      <td>624.0</td>\n",
       "      <td>1</td>\n",
       "      <td>2020</td>\n",
       "      <td>1</td>\n",
       "    </tr>\n",
       "    <tr>\n",
       "      <th>1</th>\n",
       "      <td>330</td>\n",
       "      <td>1</td>\n",
       "      <td>163</td>\n",
       "      <td>624</td>\n",
       "      <td>25</td>\n",
       "      <td>H</td>\n",
       "      <td>102.0</td>\n",
       "      <td>500.0</td>\n",
       "      <td>624.0</td>\n",
       "      <td>1</td>\n",
       "      <td>2020</td>\n",
       "      <td>0</td>\n",
       "    </tr>\n",
       "    <tr>\n",
       "      <th>2</th>\n",
       "      <td>1200</td>\n",
       "      <td>1</td>\n",
       "      <td>155</td>\n",
       "      <td>845</td>\n",
       "      <td>0</td>\n",
       "      <td>X</td>\n",
       "      <td>726.0</td>\n",
       "      <td>NaN</td>\n",
       "      <td>845.0</td>\n",
       "      <td>2</td>\n",
       "      <td>2020</td>\n",
       "      <td>2</td>\n",
       "    </tr>\n",
       "    <tr>\n",
       "      <th>3</th>\n",
       "      <td>1730</td>\n",
       "      <td>15</td>\n",
       "      <td>1543</td>\n",
       "      <td>745</td>\n",
       "      <td>76</td>\n",
       "      <td>W</td>\n",
       "      <td>502.0</td>\n",
       "      <td>NaN</td>\n",
       "      <td>745.0</td>\n",
       "      <td>1</td>\n",
       "      <td>2020</td>\n",
       "      <td>1</td>\n",
       "    </tr>\n",
       "    <tr>\n",
       "      <th>4</th>\n",
       "      <td>415</td>\n",
       "      <td>19</td>\n",
       "      <td>1998</td>\n",
       "      <td>740</td>\n",
       "      <td>31</td>\n",
       "      <td>X</td>\n",
       "      <td>409.0</td>\n",
       "      <td>NaN</td>\n",
       "      <td>740.0</td>\n",
       "      <td>1</td>\n",
       "      <td>2020</td>\n",
       "      <td>2</td>\n",
       "    </tr>\n",
       "  </tbody>\n",
       "</table>\n",
       "</div>"
      ],
      "text/plain": [
       "   TIME_OCC  AREA  Rpt_Dist_No  Crm_Cd  Vict_Age Vict_Descent  Premis_Cd  \\\n",
       "0      2230     3          377     624        36            B      501.0   \n",
       "1       330     1          163     624        25            H      102.0   \n",
       "2      1200     1          155     845         0            X      726.0   \n",
       "3      1730    15         1543     745        76            W      502.0   \n",
       "4       415    19         1998     740        31            X      409.0   \n",
       "\n",
       "   Weapon_Used_Cd  Crm_Cd_1  month  year  Vict_Gender  \n",
       "0           400.0     624.0      1  2020            1  \n",
       "1           500.0     624.0      1  2020            0  \n",
       "2             NaN     845.0      2  2020            2  \n",
       "3             NaN     745.0      1  2020            1  \n",
       "4             NaN     740.0      1  2020            2  "
      ]
     },
     "execution_count": 37,
     "metadata": {},
     "output_type": "execute_result"
    }
   ],
   "source": [
    "crime_df.head()"
   ]
  },
  {
   "cell_type": "code",
   "execution_count": 38,
   "id": "87e9f6d1",
   "metadata": {},
   "outputs": [
    {
     "data": {
      "text/plain": [
       "Vict_Descent\n",
       "H      213713\n",
       "W      143158\n",
       "B      100322\n",
       "NaN     91052\n",
       "X       64399\n",
       "O       54984\n",
       "A       15125\n",
       "K        3630\n",
       "F        2853\n",
       "C        2542\n",
       "J         958\n",
       "V         684\n",
       "I         666\n",
       "Z         335\n",
       "P         182\n",
       "U         134\n",
       "G          48\n",
       "D          48\n",
       "L          44\n",
       "S          38\n",
       "Name: count, dtype: int64"
      ]
     },
     "execution_count": 38,
     "metadata": {},
     "output_type": "execute_result"
    }
   ],
   "source": [
    "crime_df.Vict_Descent.value_counts(dropna=False)"
   ]
  },
  {
   "cell_type": "code",
   "execution_count": 39,
   "id": "03ec351b",
   "metadata": {},
   "outputs": [],
   "source": [
    "crime_df['Vict Descent'] = crime_df['Vict_Descent'].replace(np.nan, 'X', inplace=True)"
   ]
  },
  {
   "cell_type": "code",
   "execution_count": 40,
   "id": "56ba6dac",
   "metadata": {},
   "outputs": [
    {
     "data": {
      "text/plain": [
       "Vict_Descent\n",
       "H    213713\n",
       "X    155451\n",
       "W    143158\n",
       "B    100322\n",
       "O     54984\n",
       "A     15125\n",
       "K      3630\n",
       "F      2853\n",
       "C      2542\n",
       "J       958\n",
       "V       684\n",
       "I       666\n",
       "Z       335\n",
       "P       182\n",
       "U       134\n",
       "G        48\n",
       "D        48\n",
       "L        44\n",
       "S        38\n",
       "Name: count, dtype: int64"
      ]
     },
     "execution_count": 40,
     "metadata": {},
     "output_type": "execute_result"
    }
   ],
   "source": [
    "crime_df.Vict_Descent.value_counts(dropna=False)"
   ]
  },
  {
   "cell_type": "code",
   "execution_count": 41,
   "id": "152a51aa",
   "metadata": {},
   "outputs": [],
   "source": [
    "# I used LabelEncoder to be able to change the strings to numeric to be able to use my model to my Machine Learn. "
   ]
  },
  {
   "cell_type": "code",
   "execution_count": 42,
   "id": "555ffc54",
   "metadata": {},
   "outputs": [],
   "source": [
    "from sklearn.preprocessing import LabelEncoder"
   ]
  },
  {
   "cell_type": "code",
   "execution_count": 43,
   "id": "47c44bd5",
   "metadata": {},
   "outputs": [],
   "source": [
    "le = LabelEncoder()\n",
    "crime_df['Vict_descent_1'] = le.fit_transform(crime_df['Vict_Descent'])"
   ]
  },
  {
   "cell_type": "code",
   "execution_count": 44,
   "id": "d1d71822",
   "metadata": {},
   "outputs": [
    {
     "data": {
      "text/plain": [
       "Vict_descent_1\n",
       "6     213713\n",
       "17    155451\n",
       "16    143158\n",
       "1     100322\n",
       "11     54984\n",
       "0      15125\n",
       "9       3630\n",
       "4       2853\n",
       "2       2542\n",
       "8        958\n",
       "15       684\n",
       "7        666\n",
       "18       335\n",
       "12       182\n",
       "14       134\n",
       "5         48\n",
       "3         48\n",
       "10        44\n",
       "13        38\n",
       "Name: count, dtype: int64"
      ]
     },
     "execution_count": 44,
     "metadata": {},
     "output_type": "execute_result"
    }
   ],
   "source": [
    "crime_df.Vict_descent_1.value_counts(dropna=False)"
   ]
  },
  {
   "attachments": {
    "image-8.png": {
     "image/png": "[encoded data removed]"
    }
   },
   "cell_type": "markdown",
   "id": "cfdb7a99",
   "metadata": {},
   "source": [
    "![image-8.png](attachment:image-8.png)"
   ]
  },
  {
   "cell_type": "code",
   "execution_count": 45,
   "id": "b0028120",
   "metadata": {},
   "outputs": [
    {
     "data": {
      "image/png": "[encoded data removed]",
      "text/plain": [
       "<Figure size 640x480 with 1 Axes>"
      ]
     },
     "metadata": {},
     "output_type": "display_data"
    }
   ],
   "source": [
    "import matplotlib.pyplot as plt\n",
    "import seaborn as sns\n",
    "\n",
    "\n",
    "sns.countplot(x='Vict_descent_1', data=crime_df)\n",
    "plt.title('Distribution of Descent')\n",
    "plt.show()\n",
    "\n",
    "# In this plot we can see the distribution of our feature Vict_descent_1"
   ]
  },
  {
   "cell_type": "code",
   "execution_count": 46,
   "id": "c62411dc",
   "metadata": {},
   "outputs": [],
   "source": [
    "#https://seaborn.pydata.org/examples/part_whole_bars.html I MIGHT USE THIS GRAPH. "
   ]
  },
  {
   "cell_type": "code",
   "execution_count": 47,
   "id": "60297633",
   "metadata": {},
   "outputs": [],
   "source": [
    "crime_df.drop(columns=['Vict_Descent','Vict Descent' ], inplace=True)\n"
   ]
  },
  {
   "cell_type": "code",
   "execution_count": 48,
   "id": "75b9a7d1",
   "metadata": {},
   "outputs": [
    {
     "data": {
      "text/plain": [
       "TIME_OCC           0.000000\n",
       "AREA               0.000000\n",
       "Rpt_Dist_No        0.000000\n",
       "Crm_Cd             0.000000\n",
       "Vict_Age           0.000000\n",
       "Premis_Cd          0.001151\n",
       "Weapon_Used_Cd    65.257046\n",
       "Crm_Cd_1           0.001295\n",
       "month              0.000000\n",
       "year               0.000000\n",
       "Vict_Gender        0.000000\n",
       "Vict_descent_1     0.000000\n",
       "dtype: float64"
      ]
     },
     "execution_count": 48,
     "metadata": {},
     "output_type": "execute_result"
    }
   ],
   "source": [
    "crime_df.isnull().mean() *100 "
   ]
  },
  {
   "cell_type": "code",
   "execution_count": 49,
   "id": "7438d995",
   "metadata": {},
   "outputs": [
    {
     "data": {
      "text/plain": [
       "<Axes: ylabel='Density'>"
      ]
     },
     "execution_count": 49,
     "metadata": {},
     "output_type": "execute_result"
    },
    {
     "data": {
      "image/png": "[encoded data removed]",
      "text/plain": [
       "<Figure size 640x480 with 1 Axes>"
      ]
     },
     "metadata": {},
     "output_type": "display_data"
    }
   ],
   "source": [
    "crime_df['Weapon_Used_Cd'].plot(kind = 'density')"
   ]
  },
  {
   "cell_type": "code",
   "execution_count": 50,
   "id": "5e8380ec",
   "metadata": {},
   "outputs": [],
   "source": [
    "mean = crime_df['Weapon_Used_Cd'].mean()"
   ]
  },
  {
   "cell_type": "code",
   "execution_count": 51,
   "id": "74e22d67",
   "metadata": {},
   "outputs": [],
   "source": [
    "crime_df['Weapon_Used_Cd'].fillna(mean , inplace=True)"
   ]
  },
  {
   "cell_type": "markdown",
   "id": "5f5ff003",
   "metadata": {},
   "source": [
    "# Plot the density of the feature 'Weapon_used_cd'."
   ]
  },
  {
   "cell_type": "code",
   "execution_count": 52,
   "id": "c4f53b33",
   "metadata": {},
   "outputs": [
    {
     "data": {
      "text/plain": [
       "<Axes: ylabel='Density'>"
      ]
     },
     "execution_count": 52,
     "metadata": {},
     "output_type": "execute_result"
    },
    {
     "data": {
      "image/png": "[encoded data removed]",
      "text/plain": [
       "<Figure size 640x480 with 1 Axes>"
      ]
     },
     "metadata": {},
     "output_type": "display_data"
    }
   ],
   "source": [
    "crime_df['Weapon_Used_Cd'].plot(kind = 'density')"
   ]
  },
  {
   "cell_type": "code",
   "execution_count": 53,
   "id": "ad8545ef",
   "metadata": {},
   "outputs": [
    {
     "data": {
      "text/plain": [
       "TIME_OCC          0.000000\n",
       "AREA              0.000000\n",
       "Rpt_Dist_No       0.000000\n",
       "Crm_Cd            0.000000\n",
       "Vict_Age          0.000000\n",
       "Premis_Cd         0.001151\n",
       "Weapon_Used_Cd    0.000000\n",
       "Crm_Cd_1          0.001295\n",
       "month             0.000000\n",
       "year              0.000000\n",
       "Vict_Gender       0.000000\n",
       "Vict_descent_1    0.000000\n",
       "dtype: float64"
      ]
     },
     "execution_count": 53,
     "metadata": {},
     "output_type": "execute_result"
    }
   ],
   "source": [
    "crime_df.isnull().mean() *100 "
   ]
  },
  {
   "cell_type": "code",
   "execution_count": 54,
   "id": "0832be07",
   "metadata": {},
   "outputs": [
    {
     "data": {
      "text/plain": [
       "<Axes: ylabel='Density'>"
      ]
     },
     "execution_count": 54,
     "metadata": {},
     "output_type": "execute_result"
    },
    {
     "data": {
      "image/png": "[encoded data removed]",
      "text/plain": [
       "<Figure size 640x480 with 1 Axes>"
      ]
     },
     "metadata": {},
     "output_type": "display_data"
    }
   ],
   "source": [
    "crime_df['Premis_Cd'].plot(kind = 'density')"
   ]
  },
  {
   "cell_type": "code",
   "execution_count": 55,
   "id": "04d871cc",
   "metadata": {},
   "outputs": [],
   "source": [
    "meancd = crime_df['Premis_Cd'].mean()"
   ]
  },
  {
   "cell_type": "code",
   "execution_count": 56,
   "id": "7e734009",
   "metadata": {},
   "outputs": [],
   "source": [
    "crime_df['Premis_Cd'].fillna(meancd, inplace=True)"
   ]
  },
  {
   "cell_type": "code",
   "execution_count": 57,
   "id": "df60ee46",
   "metadata": {},
   "outputs": [],
   "source": [
    "mean1 = crime_df['Crm_Cd_1'].mean()"
   ]
  },
  {
   "cell_type": "code",
   "execution_count": 58,
   "id": "3e6cb9f2",
   "metadata": {},
   "outputs": [],
   "source": [
    "crime_df['Crm_Cd_1'].fillna(mean1, inplace= True)"
   ]
  },
  {
   "cell_type": "code",
   "execution_count": 59,
   "id": "18a105e1",
   "metadata": {},
   "outputs": [
    {
     "data": {
      "text/html": [
       "<div>\n",
       "<style scoped>\n",
       "    .dataframe tbody tr th:only-of-type {\n",
       "        vertical-align: middle;\n",
       "    }\n",
       "\n",
       "    .dataframe tbody tr th {\n",
       "        vertical-align: top;\n",
       "    }\n",
       "\n",
       "    .dataframe thead th {\n",
       "        text-align: right;\n",
       "    }\n",
       "</style>\n",
       "<table border=\"1\" class=\"dataframe\">\n",
       "  <thead>\n",
       "    <tr style=\"text-align: right;\">\n",
       "      <th></th>\n",
       "      <th>TIME_OCC</th>\n",
       "      <th>AREA</th>\n",
       "      <th>Rpt_Dist_No</th>\n",
       "      <th>Crm_Cd</th>\n",
       "      <th>Vict_Age</th>\n",
       "      <th>Premis_Cd</th>\n",
       "      <th>Weapon_Used_Cd</th>\n",
       "      <th>Crm_Cd_1</th>\n",
       "      <th>month</th>\n",
       "      <th>year</th>\n",
       "      <th>Vict_Gender</th>\n",
       "      <th>Vict_descent_1</th>\n",
       "    </tr>\n",
       "  </thead>\n",
       "  <tbody>\n",
       "    <tr>\n",
       "      <th>0</th>\n",
       "      <td>2230</td>\n",
       "      <td>3</td>\n",
       "      <td>377</td>\n",
       "      <td>624</td>\n",
       "      <td>36</td>\n",
       "      <td>501.0</td>\n",
       "      <td>400.00000</td>\n",
       "      <td>624.0</td>\n",
       "      <td>1</td>\n",
       "      <td>2020</td>\n",
       "      <td>1</td>\n",
       "      <td>1</td>\n",
       "    </tr>\n",
       "    <tr>\n",
       "      <th>1</th>\n",
       "      <td>330</td>\n",
       "      <td>1</td>\n",
       "      <td>163</td>\n",
       "      <td>624</td>\n",
       "      <td>25</td>\n",
       "      <td>102.0</td>\n",
       "      <td>500.00000</td>\n",
       "      <td>624.0</td>\n",
       "      <td>1</td>\n",
       "      <td>2020</td>\n",
       "      <td>0</td>\n",
       "      <td>6</td>\n",
       "    </tr>\n",
       "    <tr>\n",
       "      <th>2</th>\n",
       "      <td>1200</td>\n",
       "      <td>1</td>\n",
       "      <td>155</td>\n",
       "      <td>845</td>\n",
       "      <td>0</td>\n",
       "      <td>726.0</td>\n",
       "      <td>362.20208</td>\n",
       "      <td>845.0</td>\n",
       "      <td>2</td>\n",
       "      <td>2020</td>\n",
       "      <td>2</td>\n",
       "      <td>17</td>\n",
       "    </tr>\n",
       "    <tr>\n",
       "      <th>3</th>\n",
       "      <td>1730</td>\n",
       "      <td>15</td>\n",
       "      <td>1543</td>\n",
       "      <td>745</td>\n",
       "      <td>76</td>\n",
       "      <td>502.0</td>\n",
       "      <td>362.20208</td>\n",
       "      <td>745.0</td>\n",
       "      <td>1</td>\n",
       "      <td>2020</td>\n",
       "      <td>1</td>\n",
       "      <td>16</td>\n",
       "    </tr>\n",
       "    <tr>\n",
       "      <th>4</th>\n",
       "      <td>415</td>\n",
       "      <td>19</td>\n",
       "      <td>1998</td>\n",
       "      <td>740</td>\n",
       "      <td>31</td>\n",
       "      <td>409.0</td>\n",
       "      <td>362.20208</td>\n",
       "      <td>740.0</td>\n",
       "      <td>1</td>\n",
       "      <td>2020</td>\n",
       "      <td>2</td>\n",
       "      <td>17</td>\n",
       "    </tr>\n",
       "  </tbody>\n",
       "</table>\n",
       "</div>"
      ],
      "text/plain": [
       "   TIME_OCC  AREA  Rpt_Dist_No  Crm_Cd  Vict_Age  Premis_Cd  Weapon_Used_Cd  \\\n",
       "0      2230     3          377     624        36      501.0       400.00000   \n",
       "1       330     1          163     624        25      102.0       500.00000   \n",
       "2      1200     1          155     845         0      726.0       362.20208   \n",
       "3      1730    15         1543     745        76      502.0       362.20208   \n",
       "4       415    19         1998     740        31      409.0       362.20208   \n",
       "\n",
       "   Crm_Cd_1  month  year  Vict_Gender  Vict_descent_1  \n",
       "0     624.0      1  2020            1               1  \n",
       "1     624.0      1  2020            0               6  \n",
       "2     845.0      2  2020            2              17  \n",
       "3     745.0      1  2020            1              16  \n",
       "4     740.0      1  2020            2              17  "
      ]
     },
     "execution_count": 59,
     "metadata": {},
     "output_type": "execute_result"
    }
   ],
   "source": [
    "crime_df.head()"
   ]
  },
  {
   "cell_type": "markdown",
   "id": "953e5ba6",
   "metadata": {},
   "source": [
    "# Observation about clean the data\n",
    "\n",
    "\n",
    "    One of the things that I realized about this dataset was the possibility to change my target depending of the question that I am doing. \n",
    "    Example: \n",
    "    The first question that I have is: What is the average age? \n",
    "    \n",
    "    "
   ]
  },
  {
   "cell_type": "code",
   "execution_count": 60,
   "id": "a89446b6",
   "metadata": {},
   "outputs": [],
   "source": [
    "crime_df['Vict_Age'].replace({0: np.nan, -1: np.nan, -2: np.nan, 120: np.nan}, inplace=True)\n",
    "\n"
   ]
  },
  {
   "cell_type": "code",
   "execution_count": 61,
   "id": "b288413f",
   "metadata": {},
   "outputs": [
    {
     "data": {
      "text/plain": [
       "Vict_Age\n",
       "NaN     168549\n",
       "30.0     16076\n",
       "35.0     15665\n",
       "31.0     15289\n",
       "29.0     15288\n",
       "         ...  \n",
       "94.0        81\n",
       "95.0        71\n",
       "96.0        66\n",
       "97.0        53\n",
       "98.0        51\n",
       "Name: count, Length: 99, dtype: int64"
      ]
     },
     "execution_count": 61,
     "metadata": {},
     "output_type": "execute_result"
    }
   ],
   "source": [
    "crime_df.Vict_Age.value_counts(dropna=False)"
   ]
  },
  {
   "cell_type": "code",
   "execution_count": 62,
   "id": "e956e909",
   "metadata": {},
   "outputs": [],
   "source": [
    "# There are 168.549 missing values, because, above I had to replace -1 and -2 and 120 that before was in our dataset and are\n",
    "# Data that makes no sense due to we are talking about people that commited a crime. "
   ]
  },
  {
   "cell_type": "code",
   "execution_count": 63,
   "id": "c0649a60",
   "metadata": {},
   "outputs": [
    {
     "data": {
      "text/plain": [
       "168549"
      ]
     },
     "execution_count": 63,
     "metadata": {},
     "output_type": "execute_result"
    }
   ],
   "source": [
    "crime_df['Vict_Age'].isnull().sum()"
   ]
  },
  {
   "cell_type": "code",
   "execution_count": 64,
   "id": "f0165d32",
   "metadata": {},
   "outputs": [],
   "source": [
    "mean4 = crime_df['Vict_Age'].mean()"
   ]
  },
  {
   "cell_type": "code",
   "execution_count": 65,
   "id": "db149d70",
   "metadata": {},
   "outputs": [],
   "source": [
    "crime_df['Vict_Age'] = crime_df['Vict_Age'].fillna(mean4)\n"
   ]
  },
  {
   "cell_type": "code",
   "execution_count": 66,
   "id": "b43fa2c2",
   "metadata": {},
   "outputs": [
    {
     "data": {
      "text/plain": [
       "Vict_Age\n",
       "39.56648    168549\n",
       "30.00000     16076\n",
       "35.00000     15665\n",
       "31.00000     15289\n",
       "29.00000     15288\n",
       "             ...  \n",
       "94.00000        81\n",
       "95.00000        71\n",
       "96.00000        66\n",
       "97.00000        53\n",
       "98.00000        51\n",
       "Name: count, Length: 99, dtype: int64"
      ]
     },
     "execution_count": 66,
     "metadata": {},
     "output_type": "execute_result"
    }
   ],
   "source": [
    "crime_df.Vict_Age.value_counts(dropna=False)"
   ]
  },
  {
   "cell_type": "markdown",
   "id": "71e2fc63",
   "metadata": {},
   "source": [
    "# Visualizing the data\n",
    " #### Explain a little bit better. "
   ]
  },
  {
   "cell_type": "code",
   "execution_count": 67,
   "id": "de24a6cc",
   "metadata": {},
   "outputs": [
    {
     "ename": "SyntaxError",
     "evalue": "invalid syntax (1456720079.py, line 1)",
     "output_type": "error",
     "traceback": [
      "\u001b[1;36m  Cell \u001b[1;32mIn[67], line 1\u001b[1;36m\u001b[0m\n\u001b[1;33m    sns.boxplot(x='Vict_descent_1', y='Vict_Age', data=)\u001b[0m\n\u001b[1;37m                                                       ^\u001b[0m\n\u001b[1;31mSyntaxError\u001b[0m\u001b[1;31m:\u001b[0m invalid syntax\n"
     ]
    }
   ],
   "source": [
    "sns.boxplot(x='Vict_descent_1', y='Vict_Age', data=)\n",
    "plt.title('Box plot of Age by Race')\n",
    "plt.xlabel('Vict_descent_1')\n",
    "plt.ylabel('Vict_Age')\n",
    "plt.show()"
   ]
  },
  {
   "cell_type": "code",
   "execution_count": null,
   "id": "7c31f5e6",
   "metadata": {},
   "outputs": [],
   "source": [
    "sns.barplot(x='Vict_descent_1', y='Vict_Age', data=crime_df, estimator=np.mean)\n",
    "plt.title('Average Age by Race')\n",
    "plt.xlabel('Vict_descent_1')\n",
    "plt.ylabel('Average Vict_Age')\n",
    "plt.show()"
   ]
  },
  {
   "cell_type": "code",
   "execution_count": null,
   "id": "23fe3f60",
   "metadata": {},
   "outputs": [],
   "source": [
    "# EXPLAIN ABOUT IT. "
   ]
  },
  {
   "cell_type": "code",
   "execution_count": null,
   "id": "8541fe03",
   "metadata": {},
   "outputs": [],
   "source": [
    "sns.pairplot(crime_df)"
   ]
  },
  {
   "cell_type": "markdown",
   "id": "ef9acdc5",
   "metadata": {},
   "source": [
    "# StandardScaller"
   ]
  },
  {
   "cell_type": "code",
   "execution_count": null,
   "id": "6285e49a",
   "metadata": {},
   "outputs": [],
   "source": [
    "df_target = crime_df[['Vict_Gender']]\n"
   ]
  },
  {
   "cell_type": "code",
   "execution_count": null,
   "id": "7760f454",
   "metadata": {},
   "outputs": [],
   "source": []
  },
  {
   "cell_type": "markdown",
   "id": "ef7756b6",
   "metadata": {},
   "source": [
    "# PCA"
   ]
  },
  {
   "cell_type": "code",
   "execution_count": null,
   "id": "9be7df47",
   "metadata": {},
   "outputs": [],
   "source": [
    "from sklearn.decomposition import PCA "
   ]
  },
  {
   "cell_type": "code",
   "execution_count": null,
   "id": "e9a0b771",
   "metadata": {},
   "outputs": [],
   "source": [
    "pca = PCA().fit(X) \n",
    "plt.plot(np.cumsum(pca.explained_variance_ratio_)) \n",
    "plt.xlabel('number of components') \n",
    "plt.ylabel('cumulative explained variance'); "
   ]
  },
  {
   "cell_type": "code",
   "execution_count": null,
   "id": "66650dff",
   "metadata": {},
   "outputs": [],
   "source": [
    "pca = PCA(n_components=4) \n",
    "pca.fit(X) \n",
    "X_pca = pca.transform(X)\n",
    "print(\"original shape:   \", X.shape) \n",
    "print(\"transformed shape:\", X_pca.shape) \n"
   ]
  },
  {
   "cell_type": "code",
   "execution_count": null,
   "id": "3743e3af",
   "metadata": {},
   "outputs": [],
   "source": [
    "# I know to be able to get almost 100% of accuracy I have to use 4 components. "
   ]
  },
  {
   "cell_type": "code",
   "execution_count": null,
   "id": "2963d921",
   "metadata": {},
   "outputs": [],
   "source": [
    "crime_pca = pd.DataFrame(X, columns =['A1', 'A2', 'A3', 'A4'])"
   ]
  },
  {
   "cell_type": "code",
   "execution_count": null,
   "id": "939976c2",
   "metadata": {},
   "outputs": [],
   "source": [
    "crime_pca.head()"
   ]
  },
  {
   "cell_type": "code",
   "execution_count": null,
   "id": "e139d386",
   "metadata": {},
   "outputs": [],
   "source": []
  }
 ],
 "metadata": {
  "kernelspec": {
   "display_name": "Python 3 (ipykernel)",
   "language": "python",
   "name": "python3"
  },
  "language_info": {
   "codemirror_mode": {
    "name": "ipython",
    "version": 3
   },
   "file_extension": ".py",
   "mimetype": "text/x-python",
   "name": "python",
   "nbconvert_exporter": "python",
   "pygments_lexer": "ipython3",
   "version": "3.11.4"
  }
 },
 "nbformat": 4,
 "nbformat_minor": 5
}
